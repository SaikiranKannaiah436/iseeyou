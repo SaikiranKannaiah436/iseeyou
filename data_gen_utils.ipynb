{
 "cells": [
  {
   "cell_type": "code",
   "execution_count": 1,
   "metadata": {},
   "outputs": [],
   "source": [
    "import numpy as np\n",
    "from skimage.io import imread\n",
    "from skimage.transform import resize\n",
    "import xml.etree.ElementTree as etree\n",
    "import os\n",
    "import pickle\n",
    "import matplotlib.pyplot as plt\n",
    "%matplotlib inline"
   ]
  },
  {
   "cell_type": "code",
   "execution_count": 2,
   "metadata": {},
   "outputs": [],
   "source": [
    "def parse_annot(annot_file_path):\n",
    "    # returns the bounding box coords and class agonistic centers for each object in annot file\n",
    "    results = {}\n",
    "    #centers = []\n",
    "    xml_file = etree.parse(annot_file_path)\n",
    "    root = xml_file.getroot()\n",
    "    #img_height = xml_file.findtext('.//height')\n",
    "    #img_width = xml_file.findtext('.//width') \n",
    "    for obj in root.iter('object'):\n",
    "        cls = obj.find('name').text\n",
    "        if cls not in results.keys():\n",
    "            results[cls] = []\n",
    "        xmin = int(round(float(obj.find('bndbox').find('xmin').text)))\n",
    "        ymin = int(round(float(obj.find('bndbox').find('ymin').text)))\n",
    "        xmax = int(round(float(obj.find('bndbox').find('xmax').text)))\n",
    "        ymax = int(round(float(obj.find('bndbox').find('ymax').text)))\n",
    "        coords = [xmin, ymin, xmax, ymax]\n",
    "        #center = get_center(coords)\n",
    "        #centers.append(center)\n",
    "        results[cls].append(coords)\n",
    "    return results#, centers"
   ]
  },
  {
   "cell_type": "code",
   "execution_count": 3,
   "metadata": {},
   "outputs": [],
   "source": [
    "def get_center(coords):\n",
    "    \n",
    "    x = (coords[0] + coords[2]) / 2.0\n",
    "    y = (coords[1] + coords[3]) / 2.0\n",
    "    \n",
    "    return[x, y]"
   ]
  },
  {
   "cell_type": "code",
   "execution_count": 4,
   "metadata": {},
   "outputs": [],
   "source": [
    "def get_grid_info(img_size, grid_size):\n",
    "    coords = []\n",
    "    centers = []\n",
    "    # assuming grid and img size are symmetric\n",
    "    each_grid = img_size[0] / grid_size[0]\n",
    "    xmin, ymin = (0, 0)\n",
    "    xmax, ymax = int(each_grid), int(each_grid)\n",
    "    for each_grid in range(grid_size[0] * grid_size[1]):\n",
    "        width = xmax - xmin\n",
    "        height  = ymax - ymin\n",
    "        bbox = [xmin, ymin, xmax, ymax]\n",
    "        centers.append(get_center(bbox))\n",
    "        coords.append(bbox)\n",
    "        if (each_grid + 1) % grid_size[0] !=0:\n",
    "            xmin = xmax\n",
    "            ymin = ymin\n",
    "            xmax = xmin + width\n",
    "            ymax = ymin + height\n",
    "        else:\n",
    "            xmin = 0\n",
    "            ymin = ymax \n",
    "            xmax = xmin + width\n",
    "            ymax = ymin + height\n",
    "    return coords, centers"
   ]
  },
  {
   "cell_type": "code",
   "execution_count": 5,
   "metadata": {},
   "outputs": [],
   "source": [
    "def find_object_grid(object_centers, grid_centers):\n",
    "    \n",
    "    #grid_coord, grid_centers = get_grid_info(img_size=input_size, grid_size=grid_size)\n",
    "    grid_centers = np.asarray(grid_centers, dtype=float)\n",
    "    box_nums = []\n",
    "    if len(object_centers) > 2:\n",
    "        for center in object_centers:\n",
    "            box_num = np.argmin(np.sqrt(np.sum(np.square(grid_centers - center), axis=1)))\n",
    "            box_nums.append(box_num)\n",
    "    else:\n",
    "            box_num = np.argmin(np.sqrt(np.sum(np.square(grid_centers - object_centers), axis=1)))\n",
    "            return box_num\n",
    "    return box_nums"
   ]
  },
  {
   "cell_type": "markdown",
   "metadata": {},
   "source": [
    "#### The flow of the parsing annotations would be as follows\n",
    "\n",
    "   1. Parse the annotation file to get the classes with their bounding box information and centers *parse_annot()*  \n",
    "   1. To find where each object falls in the grid\n",
    "        1. Transform the image to fixed image size say 224x224 and then transform the bbox coords and object centers\n",
    "        1. Make the grid by calling *get_grid_info()* which returns grid coordinates and grid centers\n",
    "        1. Get the centers of each object after parsing the annotation file\n",
    "        1. Compare the distance between the object centers and grid centers and get the args of least distance *find_object_grid()*"
   ]
  },
  {
   "cell_type": "code",
   "execution_count": 6,
   "metadata": {},
   "outputs": [],
   "source": [
    "import numpy as np\n",
    "from skimage.io import imread\n",
    "from skimage.transform import resize\n",
    "\n",
    "class DataGenerator(object):\n",
    "\n",
    "    def __init__(self, dim_x = 224, dim_y = 224, channels = 3, grid_size=(3, 3), batch_size = 32, img_path=None, shuffle = True):\n",
    "        'Initialization'\n",
    "        self.dim_x = dim_x\n",
    "        self.dim_y = dim_y\n",
    "        self.dim_z = channels\n",
    "        self.grid_size = grid_size\n",
    "        self.batch_size = batch_size\n",
    "        self.img_path = img_path\n",
    "        self.shuffle = shuffle\n",
    "\n",
    "    def generate(self, labels, list_IDs):\n",
    "        'Generates batches of samples'\n",
    "        # Infinite loop\n",
    "        while 1:\n",
    "        # Generate order of exploration of dataset\n",
    "            indexes = self.__get_exploration_order(list_IDs)\n",
    "\n",
    "            # Generate batches\n",
    "            imax = int(len(indexes)/self.batch_size)\n",
    "            for i in range(imax):\n",
    "            # Find list of IDs\n",
    "                list_IDs_temp = [list_IDs[k] for k in indexes[i*self.batch_size:(i+1)*self.batch_size]]\n",
    "\n",
    "                # Generate data\n",
    "                X, y = self.__data_generation(labels, list_IDs_temp)\n",
    "\n",
    "                yield X, y\n",
    "\n",
    "    def __get_exploration_order(self, list_IDs):\n",
    "        'Generates order of exploration'\n",
    "        # Find exploration order\n",
    "        indexes = np.arange(len(list_IDs))\n",
    "        if self.shuffle == True:\n",
    "            np.random.shuffle(indexes)\n",
    "        return indexes\n",
    "\n",
    "    def __data_generation(self, labels, list_IDs_temp):\n",
    "        'Generates data of batch_size samples' # X : (n_samples, v_size, v_size, v_size, n_channels)\n",
    "        # Initialization\n",
    "        X = np.empty((self.batch_size, self.dim_x, self.dim_y, self.dim_z))\n",
    "        y = np.empty((self.batch_size, 4), dtype = int)\n",
    "        new_y = np.zeros(shape=(self.batch_size, self.grid_size[0], self.grid_size[1], 5), dtype=int)\n",
    "        \n",
    "        grid_coords, grid_centers = get_grid_info(img_size=(self.dim_x, self.dim_y), grid_size=(self.grid_size[0], self.grid_size[1]))\n",
    "\n",
    "        # Generate data\n",
    "        for i, ID in enumerate(list_IDs_temp):\n",
    "            \n",
    "            #img = imread('./images/'+ID+'.jpg')\n",
    "            img = imread(self.img_path + ID + '.jpg')\n",
    "            real_h, real_w, c = img.shape\n",
    "            img = resize(img, (self.dim_x, self.dim_y), mode='reflect')\n",
    "            \n",
    "            X[i] = img\n",
    "\n",
    "            # Store volume\n",
    "            #X[i, :, :, :, 0] = np.load(ID + '.npy')\n",
    "\n",
    "            # Fixing the bbox after image resize\n",
    "            bbox_list = labels[ID]\n",
    "            for each_bbox in bbox_list:\n",
    "                xmin = int(each_bbox[0] * self.dim_x / real_w)\n",
    "                xmin = max(min(xmin, real_w), 0)\n",
    "                xmax = int(each_bbox[2] * self.dim_x / real_w)\n",
    "                xmax = max(min(xmax, real_w), 0)\n",
    "                ymin = int(each_bbox[1] * self.dim_y / real_h)\n",
    "                ymin = max(min(ymin, real_h), 0)\n",
    "                ymax = int(each_bbox[3] * self.dim_y / real_h)\n",
    "                ymax = max(min(ymax, real_h), 0)\n",
    "            \n",
    "                coords = (xmin, ymin, xmax, ymax)\n",
    "                obj_center = get_center(coords)\n",
    "                grid_arg = find_object_grid(object_centers=obj_center, grid_centers=grid_centers)\n",
    "            #print(obj_center, grid_args)\n",
    "                \n",
    "                new_y[i, grid_arg // self.grid_size[0], grid_arg % self.grid_size[0] , : ] = [1, xmin, ymin, xmax, ymax]\n",
    "            #y[i] = coords\n",
    "\n",
    "        return X, new_y\n"
   ]
  },
  {
   "cell_type": "code",
   "execution_count": 7,
   "metadata": {},
   "outputs": [],
   "source": [
    "with open('full_final_partition.pkl', 'rb') as infile:\n",
    "    final_parition = pickle.load(infile)\n",
    "with open('all_labels_only_bboxes.pkl', 'rb') as infile:\n",
    "    lables = pickle.load(infile)"
   ]
  },
  {
   "cell_type": "code",
   "execution_count": 8,
   "metadata": {},
   "outputs": [],
   "source": [
    "params = {'dim_x': 224,\n",
    "          'dim_y': 224,\n",
    "          'channels': 3,\n",
    "          'grid_size':(5, 5),\n",
    "          'batch_size': 4,\n",
    "          'img_path':'../../../VOCdevkit/images/',\n",
    "          'shuffle': False}\n",
    "\n",
    "# Datasets\n",
    "partition = final_parition # IDs\n",
    "labels = lables # Labels\n",
    "\n",
    "# Generators\n",
    "training_generator = DataGenerator(**params).generate(labels, partition['train'])\n",
    "validation_generator = DataGenerator(**params).generate(labels, partition['val'])"
   ]
  },
  {
   "cell_type": "code",
   "execution_count": 9,
   "metadata": {},
   "outputs": [
    {
     "name": "stdout",
     "output_type": "stream",
     "text": [
      "(4, 224, 224, 3) (4, 5, 5, 5)\n",
      "(4, 224, 224, 3) (4, 5, 5, 5)\n",
      "(4, 224, 224, 3) (4, 5, 5, 5)\n",
      "(4, 224, 224, 3) (4, 5, 5, 5)\n",
      "(4, 224, 224, 3) (4, 5, 5, 5)\n"
     ]
    }
   ],
   "source": [
    "count = 0\n",
    "for x_train, y_train in training_generator:\n",
    "    print(x_train.shape, y_train.shape)\n",
    "    count +=1\n",
    "    if count == 5:\n",
    "        break"
   ]
  },
  {
   "cell_type": "code",
   "execution_count": 10,
   "metadata": {},
   "outputs": [
    {
     "data": {
      "text/plain": [
       "array([[[  0,   0,   0,   0,   0],\n",
       "        [  0,   0,   0,   0,   0],\n",
       "        [  0,   0,   0,   0,   0],\n",
       "        [  0,   0,   0,   0,   0],\n",
       "        [  0,   0,   0,   0,   0]],\n",
       "\n",
       "       [[  0,   0,   0,   0,   0],\n",
       "        [  0,   0,   0,   0,   0],\n",
       "        [  0,   0,   0,   0,   0],\n",
       "        [  0,   0,   0,   0,   0],\n",
       "        [  0,   0,   0,   0,   0]],\n",
       "\n",
       "       [[  0,   0,   0,   0,   0],\n",
       "        [  0,   0,   0,   0,   0],\n",
       "        [  0,   0,   0,   0,   0],\n",
       "        [  0,   0,   0,   0,   0],\n",
       "        [  0,   0,   0,   0,   0]],\n",
       "\n",
       "       [[  0,   0,   0,   0,   0],\n",
       "        [  0,   0,   0,   0,   0],\n",
       "        [  0,   0,   0,   0,   0],\n",
       "        [  0,   0,   0,   0,   0],\n",
       "        [  0,   0,   0,   0,   0]],\n",
       "\n",
       "       [[  0,   0,   0,   0,   0],\n",
       "        [  0,   0,   0,   0,   0],\n",
       "        [  1,  86, 132, 137, 224],\n",
       "        [  0,   0,   0,   0,   0],\n",
       "        [  0,   0,   0,   0,   0]]])"
      ]
     },
     "execution_count": 10,
     "metadata": {},
     "output_type": "execute_result"
    }
   ],
   "source": [
    "y_train[0]"
   ]
  },
  {
   "cell_type": "code",
   "execution_count": 11,
   "metadata": {},
   "outputs": [
    {
     "data": {
      "text/plain": [
       "'000033'"
      ]
     },
     "execution_count": 11,
     "metadata": {},
     "output_type": "execute_result"
    }
   ],
   "source": [
    "final_parition['train'][19]"
   ]
  },
  {
   "cell_type": "code",
   "execution_count": 12,
   "metadata": {},
   "outputs": [
    {
     "data": {
      "text/plain": [
       "array([[[  0,   0,   0,   0,   0],\n",
       "        [  0,   0,   0,   0,   0],\n",
       "        [  0,   0,   0,   0,   0],\n",
       "        [  0,   0,   0,   0,   0],\n",
       "        [  0,   0,   0,   0,   0]],\n",
       "\n",
       "       [[  0,   0,   0,   0,   0],\n",
       "        [  0,   0,   0,   0,   0],\n",
       "        [  0,   0,   0,   0,   0],\n",
       "        [  0,   0,   0,   0,   0],\n",
       "        [  0,   0,   0,   0,   0]],\n",
       "\n",
       "       [[  0,   0,   0,   0,   0],\n",
       "        [  0,   0,   0,   0,   0],\n",
       "        [  1,   4,  65, 223, 160],\n",
       "        [  1, 145, 115, 184, 136],\n",
       "        [  1, 188, 122, 215, 138]],\n",
       "\n",
       "       [[  0,   0,   0,   0,   0],\n",
       "        [  0,   0,   0,   0,   0],\n",
       "        [  0,   0,   0,   0,   0],\n",
       "        [  0,   0,   0,   0,   0],\n",
       "        [  0,   0,   0,   0,   0]],\n",
       "\n",
       "       [[  0,   0,   0,   0,   0],\n",
       "        [  0,   0,   0,   0,   0],\n",
       "        [  0,   0,   0,   0,   0],\n",
       "        [  0,   0,   0,   0,   0],\n",
       "        [  0,   0,   0,   0,   0]]])"
      ]
     },
     "execution_count": 12,
     "metadata": {},
     "output_type": "execute_result"
    }
   ],
   "source": [
    "y_train[3]"
   ]
  },
  {
   "cell_type": "code",
   "execution_count": 13,
   "metadata": {},
   "outputs": [],
   "source": [
    "def visualize_grid_with_gt(img, y_vector, img_resize, grid_size=(3, 3)):\n",
    "    \n",
    "    grid_x, grid_y, preds = y_vector.shape\n",
    "    real_h, real_w, c = img.shape\n",
    "    img = resize(img, img_resize, mode='reflect')\n",
    "    plt.imshow(img)\n",
    "    coords, centers = get_grid_info(img_size=img_resize, grid_size=(grid_size[0], grid_size[1]))\n",
    "    grid_num = 0\n",
    "    for each_grid_coords, each_grid_center in zip(coords, centers):\n",
    "        plt.gca().add_patch(plt.Rectangle((each_grid_coords[0], each_grid_coords[1]), each_grid_coords[2] - each_grid_coords[0] + 1, each_grid_coords[3] - each_grid_coords[1]+1, fill=False, edgecolor='g', linewidth=2))\n",
    "        plt.plot(each_grid_center[0], each_grid_center[1], marker='o', markersize=5, color='y')\n",
    "        single_vector = y_vector[grid_num // grid_x , grid_num % grid_y, : ]\n",
    "        if  np.sum(single_vector) == 0:\n",
    "            pass\n",
    "        else:\n",
    "            obj_center = get_center(single_vector[1:])\n",
    "            plt.plot(obj_center[0],obj_center[1], marker='x', markersize=5, color='b')\n",
    "        grid_num += 1\n",
    "    plt.show()"
   ]
  },
  {
   "cell_type": "code",
   "execution_count": 14,
   "metadata": {},
   "outputs": [
    {
     "data": {
      "image/png": "[encoded data removed]",
      "text/plain": [
       "<matplotlib.figure.Figure at 0x1de7aa6c320>"
      ]
     },
     "metadata": {},
     "output_type": "display_data"
    }
   ],
   "source": [
    "img = imread('../../../VOCdevkit/images/'+'000033.jpg')\n",
    "visualize_grid_with_gt(img=img, grid_size=(5, 5), y_vector=y_train[3], img_resize=(224, 224))"
   ]
  },
  {
   "cell_type": "markdown",
   "metadata": {},
   "source": [
    "### testing the method with vanilla vgg16"
   ]
  },
  {
   "cell_type": "code",
   "execution_count": 15,
   "metadata": {},
   "outputs": [
    {
     "name": "stderr",
     "output_type": "stream",
     "text": [
      "Using TensorFlow backend.\n"
     ]
    }
   ],
   "source": [
    "from keras.models import load_model, model_from_json\n",
    "from keras.applications.vgg16 import VGG16\n",
    "from keras.models import Sequential, Model\n",
    "from keras.layers import Reshape, Activation, Conv2D, Input, MaxPooling2D, BatchNormalization, Flatten, Dense, Lambda, GlobalAveragePooling2D, Dropout, Conv2DTranspose\n",
    "from keras.layers.advanced_activations import LeakyReLU\n",
    "from keras.callbacks import EarlyStopping, ModelCheckpoint, TensorBoard\n",
    "from keras.optimizers import SGD, Adam, RMSprop\n",
    "from keras.layers.merge import concatenate\n",
    "import keras.backend as K\n",
    "from skimage.io import imread\n",
    "from skimage.transform import resize\n",
    "import numpy as np\n",
    "import matplotlib.pyplot as plt\n",
    "import matplotlib.patches as patches\n",
    "%matplotlib inline"
   ]
  },
  {
   "cell_type": "code",
   "execution_count": 16,
   "metadata": {},
   "outputs": [],
   "source": [
    "model = VGG16(weights='imagenet', include_top=False, input_shape=(224, 224, 3))"
   ]
  },
  {
   "cell_type": "code",
   "execution_count": 17,
   "metadata": {},
   "outputs": [
    {
     "name": "stdout",
     "output_type": "stream",
     "text": [
      "_________________________________________________________________\n",
      "Layer (type)                 Output Shape              Param #   \n",
      "=================================================================\n",
      "input_1 (InputLayer)         (None, 224, 224, 3)       0         \n",
      "_________________________________________________________________\n",
      "block1_conv1 (Conv2D)        (None, 224, 224, 64)      1792      \n",
      "_________________________________________________________________\n",
      "block1_conv2 (Conv2D)        (None, 224, 224, 64)      36928     \n",
      "_________________________________________________________________\n",
      "block1_pool (MaxPooling2D)   (None, 112, 112, 64)      0         \n",
      "_________________________________________________________________\n",
      "block2_conv1 (Conv2D)        (None, 112, 112, 128)     73856     \n",
      "_________________________________________________________________\n",
      "block2_conv2 (Conv2D)        (None, 112, 112, 128)     147584    \n",
      "_________________________________________________________________\n",
      "block2_pool (MaxPooling2D)   (None, 56, 56, 128)       0         \n",
      "_________________________________________________________________\n",
      "block3_conv1 (Conv2D)        (None, 56, 56, 256)       295168    \n",
      "_________________________________________________________________\n",
      "block3_conv2 (Conv2D)        (None, 56, 56, 256)       590080    \n",
      "_________________________________________________________________\n",
      "block3_conv3 (Conv2D)        (None, 56, 56, 256)       590080    \n",
      "_________________________________________________________________\n",
      "block3_pool (MaxPooling2D)   (None, 28, 28, 256)       0         \n",
      "_________________________________________________________________\n",
      "block4_conv1 (Conv2D)        (None, 28, 28, 512)       1180160   \n",
      "_________________________________________________________________\n",
      "block4_conv2 (Conv2D)        (None, 28, 28, 512)       2359808   \n",
      "_________________________________________________________________\n",
      "block4_conv3 (Conv2D)        (None, 28, 28, 512)       2359808   \n",
      "_________________________________________________________________\n",
      "block4_pool (MaxPooling2D)   (None, 14, 14, 512)       0         \n",
      "_________________________________________________________________\n",
      "block5_conv1 (Conv2D)        (None, 14, 14, 512)       2359808   \n",
      "_________________________________________________________________\n",
      "block5_conv2 (Conv2D)        (None, 14, 14, 512)       2359808   \n",
      "_________________________________________________________________\n",
      "block5_conv3 (Conv2D)        (None, 14, 14, 512)       2359808   \n",
      "_________________________________________________________________\n",
      "block5_pool (MaxPooling2D)   (None, 7, 7, 512)         0         \n",
      "=================================================================\n",
      "Total params: 14,714,688\n",
      "Trainable params: 14,714,688\n",
      "Non-trainable params: 0\n",
      "_________________________________________________________________\n"
     ]
    }
   ],
   "source": [
    "model.summary()"
   ]
  },
  {
   "cell_type": "code",
   "execution_count": 55,
   "metadata": {},
   "outputs": [],
   "source": [
    "x = model.output\n",
    "x = Conv2D(512, (3, 3), padding='same', activation='relu', name='bbox_1')(x)\n",
    "x = Conv2D(512, (3, 3), padding='same', activation='relu', name='bbox_2')(x)\n",
    "x = Conv2D(512, (3, 3), padding='valid', activation='relu', name='bbox_3')(x)\n",
    "output = Conv2D(5, (1, 1), padding='same', name='grid', activation='relu')(x)\n",
    "Det_model = Model(inputs=model.input, outputs=output)"
   ]
  },
  {
   "cell_type": "code",
   "execution_count": 56,
   "metadata": {},
   "outputs": [
    {
     "name": "stdout",
     "output_type": "stream",
     "text": [
      "_________________________________________________________________\n",
      "Layer (type)                 Output Shape              Param #   \n",
      "=================================================================\n",
      "input_1 (InputLayer)         (None, 224, 224, 3)       0         \n",
      "_________________________________________________________________\n",
      "block1_conv1 (Conv2D)        (None, 224, 224, 64)      1792      \n",
      "_________________________________________________________________\n",
      "block1_conv2 (Conv2D)        (None, 224, 224, 64)      36928     \n",
      "_________________________________________________________________\n",
      "block1_pool (MaxPooling2D)   (None, 112, 112, 64)      0         \n",
      "_________________________________________________________________\n",
      "block2_conv1 (Conv2D)        (None, 112, 112, 128)     73856     \n",
      "_________________________________________________________________\n",
      "block2_conv2 (Conv2D)        (None, 112, 112, 128)     147584    \n",
      "_________________________________________________________________\n",
      "block2_pool (MaxPooling2D)   (None, 56, 56, 128)       0         \n",
      "_________________________________________________________________\n",
      "block3_conv1 (Conv2D)        (None, 56, 56, 256)       295168    \n",
      "_________________________________________________________________\n",
      "block3_conv2 (Conv2D)        (None, 56, 56, 256)       590080    \n",
      "_________________________________________________________________\n",
      "block3_conv3 (Conv2D)        (None, 56, 56, 256)       590080    \n",
      "_________________________________________________________________\n",
      "block3_pool (MaxPooling2D)   (None, 28, 28, 256)       0         \n",
      "_________________________________________________________________\n",
      "block4_conv1 (Conv2D)        (None, 28, 28, 512)       1180160   \n",
      "_________________________________________________________________\n",
      "block4_conv2 (Conv2D)        (None, 28, 28, 512)       2359808   \n",
      "_________________________________________________________________\n",
      "block4_conv3 (Conv2D)        (None, 28, 28, 512)       2359808   \n",
      "_________________________________________________________________\n",
      "block4_pool (MaxPooling2D)   (None, 14, 14, 512)       0         \n",
      "_________________________________________________________________\n",
      "block5_conv1 (Conv2D)        (None, 14, 14, 512)       2359808   \n",
      "_________________________________________________________________\n",
      "block5_conv2 (Conv2D)        (None, 14, 14, 512)       2359808   \n",
      "_________________________________________________________________\n",
      "block5_conv3 (Conv2D)        (None, 14, 14, 512)       2359808   \n",
      "_________________________________________________________________\n",
      "block5_pool (MaxPooling2D)   (None, 7, 7, 512)         0         \n",
      "_________________________________________________________________\n",
      "bbox_1 (Conv2D)              (None, 7, 7, 512)         2359808   \n",
      "_________________________________________________________________\n",
      "bbox_2 (Conv2D)              (None, 7, 7, 512)         2359808   \n",
      "_________________________________________________________________\n",
      "bbox_3 (Conv2D)              (None, 5, 5, 512)         2359808   \n",
      "_________________________________________________________________\n",
      "grid (Conv2D)                (None, 5, 5, 5)           2565      \n",
      "=================================================================\n",
      "Total params: 21,796,677\n",
      "Trainable params: 7,081,989\n",
      "Non-trainable params: 14,714,688\n",
      "_________________________________________________________________\n"
     ]
    }
   ],
   "source": [
    "for layer in model.layers:\n",
    "    layer.trainable = False\n",
    "Det_model.summary()"
   ]
  },
  {
   "cell_type": "code",
   "execution_count": 20,
   "metadata": {},
   "outputs": [],
   "source": [
    "import tensorflow as tf"
   ]
  },
  {
   "cell_type": "code",
   "execution_count": 97,
   "metadata": {},
   "outputs": [],
   "source": [
    "def custom_loss(y_true, y_pred):\n",
    "    y_train_obj = y_true[:, :, :, 0]\n",
    "    y_pred_obj = y_pred[:, :, :, 0]\n",
    "\n",
    "    logits = tf.nn.sigmoid(y_pred_obj)\n",
    "    obj_loss = tf.losses.sigmoid_cross_entropy(y_train_obj, logits)\n",
    "    \n",
    "    bbox_true = y_true[:, :, :, 1:]\n",
    "    bbox_pred = y_pred[:, :, :, 1:]\n",
    "    \n",
    "    \n",
    "    bbox_mse = tf.losses.mean_squared_error(bbox_true, bbox_pred)\n",
    "    final_loss = obj_loss + bbox_mse\n",
    "    \n",
    "    return final_loss\n",
    "\n",
    "def obj_loss(y_true, y_pred):\n",
    "    y_train_obj = y_true[:, :, :, 0]\n",
    "    y_pred_obj = y_pred[:, :, :, 0]\n",
    "    \n",
    "    logits = K.sigmoid(y_pred_obj)\n",
    "    obj_loss = K.binary_crossentropy(y_train_obj, logits)\n",
    "    \n",
    "    return obj_loss\n",
    "\n",
    "def bbox_loss(y_true, y_pred):\n",
    "    bbox_true = y_true[:, :, :, 1:]\n",
    "    bbox_pred = y_pred[:, :, :, 1:]\n",
    "    bbox_mse = tf.losses.mean_squared_error(labels=bbox_true, predictions=bbox_pred)\n",
    "    \n",
    "    return bbox_mse"
   ]
  },
  {
   "cell_type": "code",
   "execution_count": 11,
   "metadata": {},
   "outputs": [],
   "source": [
    "def custom_loss(y_true, y_pred):\n",
    "    y_train_obj = y_true[:, :, :, 0]\n",
    "    y_pred_obj = y_pred[:, :, :, 0]\n",
    "    \n",
    "    obj_loss = tf.nn.sigmoid_cross_entropy_with_logits(labels=y_train_obj, logits=y_pred_obj)\n",
    "    \n",
    "    bbox_true = y_true[:, :, :, 1:]\n",
    "    bbox_pred = y_pred[:, :, :, 1:]\n",
    "\n",
    "    bbox_mse = tf.losses.mean_squared_error(labels=bbox_true, predictions=bbox_pred)\n",
    "    \n",
    "    final_loss = obj_loss + bbox_mse\n",
    "    \n",
    "    return final_loss, obj_loss, bbox_mse\n",
    "\n",
    "def obj_loss(y_true, y_pred):\n",
    "    y_train_obj = y_true[:, :, :, 0]\n",
    "    y_pred_obj = y_pred[:, :, :, 0]\n",
    "    obj_loss = tf.nn.sigmoid_cross_entropy_with_logits(labels=y_train_obj, logits=y_pred_obj)\n",
    "    \n",
    "    return obj_loss\n",
    "\n",
    "def bbox_loss(y_true, y_pred):\n",
    "    bbox_true = y_true[:, :, :, 1:]\n",
    "    bbox_pred = y_pred[:, :, :, 1:]\n",
    "    bbox_mse = tf.losses.mean_squared_error(labels=bbox_true, predictions=bbox_pred)\n",
    "    \n",
    "    return bbox_mse"
   ]
  },
  {
   "cell_type": "code",
   "execution_count": 50,
   "metadata": {},
   "outputs": [],
   "source": [
    "def IOU(y_true, y_pred):\n",
    "    \n",
    "    \n",
    "    true_objects_mask = tf.equal(y_true[:, :, :, 0], 1)\n",
    "\n",
    "    true_objects_inputs = tf.boolean_mask(y_true, true_objects_mask)\n",
    "\n",
    "    pred_objects = tf.boolean_mask(y_pred, true_objects_mask)\n",
    "\n",
    "    y_true = true_objects_inputs\n",
    "    y_pred = pred_objects\n",
    "        \n",
    "    xmin_gt, xmin_pred =  y_true[:,1], y_pred[:,1]\n",
    "    ymin_gt, ymin_pred =  y_true[:,2], y_pred[:,2]\n",
    "    xmax_gt, xmax_pred =  y_true[:,3], y_pred[:,3]\n",
    "    ymax_gt, ymax_pred =  y_true[:,4], y_pred[:,4]\n",
    "\n",
    "\n",
    "    max_cords_x = tf.maximum(xmin_gt, xmin_pred)\n",
    "    max_cords_y = tf.maximum(ymin_gt, ymin_pred)\n",
    "\n",
    "    min_cords_x = tf.minimum(xmax_gt, xmax_pred)\n",
    "    min_cords_y = tf.minimum(ymax_gt, ymax_pred)\n",
    "\n",
    "    intersect_area = tf.multiply(tf.add(tf.subtract(min_cords_x, max_cords_x), 1), tf.add(tf.subtract(min_cords_y, max_cords_y),1))\n",
    "\n",
    "    gt_areas = tf.multiply(tf.add(tf.subtract(xmax_gt, xmin_gt), 1), tf.add(tf.subtract(ymax_gt, ymin_gt), 1))\n",
    "    pred_areas = tf.multiply(tf.add(tf.subtract(xmax_pred, xmin_pred), 1), tf.add(tf.subtract(ymax_pred, ymin_pred), 1))\n",
    "\n",
    "    union_area = tf.subtract(tf.add(gt_areas, pred_areas), intersect_area)\n",
    "\n",
    "    iou = tf.divide(intersect_area, union_area)\n",
    "\n",
    "    mean_iou = tf.reduce_mean(iou)\n",
    "\n",
    "    return mean_iou"
   ]
  },
  {
   "cell_type": "code",
   "execution_count": 61,
   "metadata": {},
   "outputs": [],
   "source": [
    "def new_loss(y_train, y_pred):\n",
    "    \n",
    "    #getting the boolean indices of where the objects are present\n",
    "    true_objects_mask = tf.equal(y_train[:, :, :, 0], 1)\n",
    "    \n",
    "    #getting the inputs where only objects are present (ie conf, xmin, ymin, xmax, ymax)\n",
    "    #true_object_inputs = y_train[true_objects_mask] # numpy equivalent\n",
    "    # tensorflow equivalent of above expression\n",
    "    true_objects_inputs = tf.boolean_mask(y_train, true_objects_mask)\n",
    "    \n",
    "    \n",
    "    #getting the network preds for respective locations\n",
    "    #pred_objects = y_pred[true_objects_mask] # numpy equivalent\n",
    "    pred_objects = tf.boolean_mask(y_pred, true_objects_mask)\n",
    "    \n",
    "    #similarly getting boolean indices where there are no objects\n",
    "    no_objects_mask = tf.equal(y_train[:, :, :, 0], 0)\n",
    "    \n",
    "    #similarly getting the inputs where there no objects basically (0, 0, 0, 0, 0)\n",
    "    #no_objects_inputs = y_train[no_objects_mask] # numpy equivalent\n",
    "    no_objects_inputs = tf.boolean_mask(y_train, no_objects_mask)\n",
    "    \n",
    "    #getting the network preds for no objs\n",
    "    #pred_no_objects = y_pred[no_objects_mask] # numpy equivalent\n",
    "    pred_no_objects = tf.boolean_mask(y_pred, no_objects_mask)\n",
    "    \n",
    "\n",
    "    y_true = true_objects_inputs\n",
    "    y_pred = pred_objects\n",
    "        \n",
    "    xmin_gt, xmin_pred =  y_true[:,1], y_pred[:,1]\n",
    "    ymin_gt, ymin_pred =  y_true[:,2], y_pred[:,2]\n",
    "    xmax_gt, xmax_pred =  y_true[:,3], y_pred[:,3]\n",
    "    ymax_gt, ymax_pred =  y_true[:,4], y_pred[:,4]\n",
    "\n",
    "\n",
    "    max_cords_x = tf.maximum(xmin_gt, xmin_pred)\n",
    "    max_cords_y = tf.maximum(ymin_gt, ymin_pred)\n",
    "\n",
    "    min_cords_x = tf.minimum(xmax_gt, xmax_pred)\n",
    "    min_cords_y = tf.minimum(ymax_gt, ymax_pred)\n",
    "\n",
    "    intersect_area = tf.multiply(tf.add(tf.subtract(min_cords_x, max_cords_x), 1), tf.add(tf.subtract(min_cords_y, max_cords_y),1))\n",
    "\n",
    "    gt_areas = tf.multiply(tf.add(tf.subtract(xmax_gt, xmin_gt), 1), tf.add(tf.subtract(ymax_gt, ymin_gt), 1))\n",
    "    pred_areas = tf.multiply(tf.add(tf.subtract(xmax_pred, xmin_pred), 1), tf.add(tf.subtract(ymax_pred, ymin_pred), 1))\n",
    "\n",
    "    union_area = tf.subtract(tf.add(gt_areas, pred_areas), intersect_area)\n",
    "\n",
    "    ious = tf.divide(intersect_area, union_area)\n",
    "    \n",
    "    \n",
    "    true_confidences_objs = true_objects_inputs[:, 0]\n",
    "    pred_confidences_objs = tf.multiply(tf.sigmoid(pred_objects[:,0]), ious)\n",
    "    true_confidences_noobs = no_objects_inputs[:, 0]\n",
    "    pred_confidences_noobs = pred_no_objects[:, 0]\n",
    "    \n",
    "    \n",
    "\n",
    "    loss_confidence_objs = tf.losses.mean_squared_error(true_confidences_objs, pred_confidences_objs, weights=5)\n",
    "    \n",
    "    loss_confidence_noobs = tf.losses.mean_squared_error(true_confidences_noobs, pred_confidences_noobs, weights=0.5)\n",
    "\n",
    "    #no_object_loss = tf.losses.mean_squared_error(no_objects_inputs, pred_no_objects, weights=0.5)\n",
    "    \n",
    "    loss_bbox = tf.losses.mean_squared_error(true_objects_inputs, pred_objects, weights=5)\n",
    "    \n",
    "    loss = loss_bbox + loss_confidence_objs + loss_confidence_noobs\n",
    "    \n",
    "    return loss"
   ]
  },
  {
   "cell_type": "code",
   "execution_count": 175,
   "metadata": {},
   "outputs": [
    {
     "data": {
      "text/plain": [
       "array([[  1,  86, 132, 137, 224],\n",
       "       [  1,  41,  25,  86, 224],\n",
       "       [  1,   0, 165,  12, 197],\n",
       "       [  1, 203, 165, 224, 188],\n",
       "       [  1,   4,  65, 223, 160],\n",
       "       [  1, 145, 115, 184, 136],\n",
       "       [  1, 188, 122, 215, 138]])"
      ]
     },
     "execution_count": 175,
     "metadata": {},
     "output_type": "execute_result"
    }
   ],
   "source": [
    "mask = y_train[:, :, :, 0] == 1\n",
    "\n",
    "K.eval(tf.boolean_mask(y_train, mask))"
   ]
  },
  {
   "cell_type": "code",
   "execution_count": 181,
   "metadata": {},
   "outputs": [
    {
     "data": {
      "text/plain": [
       "array([[[False, False, False, False, False],\n",
       "        [False, False, False, False, False],\n",
       "        [False, False, False, False, False],\n",
       "        [False, False, False, False, False],\n",
       "        [False, False,  True, False, False]],\n",
       "\n",
       "       [[False, False, False, False, False],\n",
       "        [False, False, False, False, False],\n",
       "        [False,  True, False, False, False],\n",
       "        [False, False, False, False, False],\n",
       "        [False, False, False, False, False]],\n",
       "\n",
       "       [[False, False, False, False, False],\n",
       "        [False, False, False, False, False],\n",
       "        [False, False, False, False, False],\n",
       "        [False, False, False, False, False],\n",
       "        [ True, False, False, False,  True]],\n",
       "\n",
       "       [[False, False, False, False, False],\n",
       "        [False, False, False, False, False],\n",
       "        [False, False,  True,  True,  True],\n",
       "        [False, False, False, False, False],\n",
       "        [False, False, False, False, False]]], dtype=bool)"
      ]
     },
     "execution_count": 181,
     "metadata": {},
     "output_type": "execute_result"
    }
   ],
   "source": [
    "y_train[:, :, :, 0] == 1"
   ]
  },
  {
   "cell_type": "code",
   "execution_count": 98,
   "metadata": {},
   "outputs": [],
   "source": [
    "Det_model.compile(optimizer='rmsprop', loss=custom_loss, metrics=[obj_loss, bbox_loss, IOU])"
   ]
  },
  {
   "cell_type": "code",
   "execution_count": 62,
   "metadata": {},
   "outputs": [],
   "source": [
    "Det_model.compile(optimizer='rmsprop', loss=[new_loss], metrics=[IOU])"
   ]
  },
  {
   "cell_type": "code",
   "execution_count": null,
   "metadata": {},
   "outputs": [
    {
     "name": "stderr",
     "output_type": "stream",
     "text": [
      "B:\\tookits\\Anaconda3\\envs\\DL\\lib\\site-packages\\tensorflow\\python\\ops\\gradients_impl.py:96: UserWarning: Converting sparse IndexedSlices to a dense Tensor of unknown shape. This may consume a large amount of memory.\n",
      "  \"Converting sparse IndexedSlices to a dense Tensor of unknown shape. \"\n"
     ]
    },
    {
     "name": "stdout",
     "output_type": "stream",
     "text": [
      "Epoch 1/3\n",
      "3183/6672 [=============>................] - ETA: 27:35 - loss: 2721.0911 - IOU: 0.4192"
     ]
    }
   ],
   "source": [
    "Det_model.fit_generator(training_generator, 26688 // 4, epochs=3 ,validation_data=validation_generator, validation_steps=400//4)"
   ]
  },
  {
   "cell_type": "code",
   "execution_count": 25,
   "metadata": {},
   "outputs": [],
   "source": [
    "preds = Det_model.predict(x_train)"
   ]
  },
  {
   "cell_type": "code",
   "execution_count": 34,
   "metadata": {},
   "outputs": [],
   "source": [
    "test_loss = custom_loss(tf.cast(y_train, tf.float32), preds)"
   ]
  },
  {
   "cell_type": "code",
   "execution_count": 42,
   "metadata": {},
   "outputs": [
    {
     "data": {
      "text/plain": [
       "<tf.Tensor 'add_7:0' shape=() dtype=float32>"
      ]
     },
     "execution_count": 42,
     "metadata": {},
     "output_type": "execute_result"
    }
   ],
   "source": [
    "new_loss(y_train, preds)"
   ]
  },
  {
   "cell_type": "code",
   "execution_count": 52,
   "metadata": {},
   "outputs": [
    {
     "ename": "TypeError",
     "evalue": "Input 'y' of 'Maximum' Op has type float32 that does not match type int32 of argument 'x'.",
     "output_type": "error",
     "traceback": [
      "\u001b[1;31m---------------------------------------------------------------------------\u001b[0m",
      "\u001b[1;31mValueError\u001b[0m                                Traceback (most recent call last)",
      "\u001b[1;32mB:\\tookits\\Anaconda3\\envs\\DL\\lib\\site-packages\\tensorflow\\python\\framework\\op_def_library.py\u001b[0m in \u001b[0;36m_apply_op_helper\u001b[1;34m(self, op_type_name, name, **keywords)\u001b[0m\n\u001b[0;32m    509\u001b[0m                 \u001b[0mas_ref\u001b[0m\u001b[1;33m=\u001b[0m\u001b[0minput_arg\u001b[0m\u001b[1;33m.\u001b[0m\u001b[0mis_ref\u001b[0m\u001b[1;33m,\u001b[0m\u001b[1;33m\u001b[0m\u001b[0m\n\u001b[1;32m--> 510\u001b[1;33m                 preferred_dtype=default_dtype)\n\u001b[0m\u001b[0;32m    511\u001b[0m           \u001b[1;32mexcept\u001b[0m \u001b[0mTypeError\u001b[0m \u001b[1;32mas\u001b[0m \u001b[0merr\u001b[0m\u001b[1;33m:\u001b[0m\u001b[1;33m\u001b[0m\u001b[0m\n",
      "\u001b[1;32mB:\\tookits\\Anaconda3\\envs\\DL\\lib\\site-packages\\tensorflow\\python\\framework\\ops.py\u001b[0m in \u001b[0;36minternal_convert_to_tensor\u001b[1;34m(value, dtype, name, as_ref, preferred_dtype, ctx)\u001b[0m\n\u001b[0;32m    925\u001b[0m     \u001b[1;32mif\u001b[0m \u001b[0mret\u001b[0m \u001b[1;32mis\u001b[0m \u001b[1;32mNone\u001b[0m\u001b[1;33m:\u001b[0m\u001b[1;33m\u001b[0m\u001b[0m\n\u001b[1;32m--> 926\u001b[1;33m       \u001b[0mret\u001b[0m \u001b[1;33m=\u001b[0m \u001b[0mconversion_func\u001b[0m\u001b[1;33m(\u001b[0m\u001b[0mvalue\u001b[0m\u001b[1;33m,\u001b[0m \u001b[0mdtype\u001b[0m\u001b[1;33m=\u001b[0m\u001b[0mdtype\u001b[0m\u001b[1;33m,\u001b[0m \u001b[0mname\u001b[0m\u001b[1;33m=\u001b[0m\u001b[0mname\u001b[0m\u001b[1;33m,\u001b[0m \u001b[0mas_ref\u001b[0m\u001b[1;33m=\u001b[0m\u001b[0mas_ref\u001b[0m\u001b[1;33m)\u001b[0m\u001b[1;33m\u001b[0m\u001b[0m\n\u001b[0m\u001b[0;32m    927\u001b[0m \u001b[1;33m\u001b[0m\u001b[0m\n",
      "\u001b[1;32mB:\\tookits\\Anaconda3\\envs\\DL\\lib\\site-packages\\tensorflow\\python\\framework\\ops.py\u001b[0m in \u001b[0;36m_TensorTensorConversionFunction\u001b[1;34m(t, dtype, name, as_ref)\u001b[0m\n\u001b[0;32m    773\u001b[0m         \u001b[1;34m\"Tensor conversion requested dtype %s for Tensor with dtype %s: %r\"\u001b[0m \u001b[1;33m%\u001b[0m\u001b[1;33m\u001b[0m\u001b[0m\n\u001b[1;32m--> 774\u001b[1;33m         (dtype.name, t.dtype.name, str(t)))\n\u001b[0m\u001b[0;32m    775\u001b[0m   \u001b[1;32mreturn\u001b[0m \u001b[0mt\u001b[0m\u001b[1;33m\u001b[0m\u001b[0m\n",
      "\u001b[1;31mValueError\u001b[0m: Tensor conversion requested dtype int32 for Tensor with dtype float32: 'Tensor(\"strided_slice_1:0\", shape=(?,), dtype=float32)'",
      "\nDuring handling of the above exception, another exception occurred:\n",
      "\u001b[1;31mTypeError\u001b[0m                                 Traceback (most recent call last)",
      "\u001b[1;32m<ipython-input-52-42d4fa8e0b9b>\u001b[0m in \u001b[0;36m<module>\u001b[1;34m()\u001b[0m\n\u001b[1;32m----> 1\u001b[1;33m \u001b[0mK\u001b[0m\u001b[1;33m.\u001b[0m\u001b[0meval\u001b[0m\u001b[1;33m(\u001b[0m\u001b[0mIOU\u001b[0m\u001b[1;33m(\u001b[0m\u001b[0my_train\u001b[0m\u001b[1;33m,\u001b[0m \u001b[0mpreds\u001b[0m\u001b[1;33m)\u001b[0m\u001b[1;33m)\u001b[0m\u001b[1;33m\u001b[0m\u001b[0m\n\u001b[0m",
      "\u001b[1;32m<ipython-input-50-4b82c316cdee>\u001b[0m in \u001b[0;36mIOU\u001b[1;34m(y_true, y_pred)\u001b[0m\n\u001b[0;32m     17\u001b[0m \u001b[1;33m\u001b[0m\u001b[0m\n\u001b[0;32m     18\u001b[0m \u001b[1;33m\u001b[0m\u001b[0m\n\u001b[1;32m---> 19\u001b[1;33m     \u001b[0mmax_cords_x\u001b[0m \u001b[1;33m=\u001b[0m \u001b[0mtf\u001b[0m\u001b[1;33m.\u001b[0m\u001b[0mmaximum\u001b[0m\u001b[1;33m(\u001b[0m\u001b[0mxmin_gt\u001b[0m\u001b[1;33m,\u001b[0m \u001b[0mxmin_pred\u001b[0m\u001b[1;33m)\u001b[0m\u001b[1;33m\u001b[0m\u001b[0m\n\u001b[0m\u001b[0;32m     20\u001b[0m     \u001b[0mmax_cords_y\u001b[0m \u001b[1;33m=\u001b[0m \u001b[0mtf\u001b[0m\u001b[1;33m.\u001b[0m\u001b[0mmaximum\u001b[0m\u001b[1;33m(\u001b[0m\u001b[0mymin_gt\u001b[0m\u001b[1;33m,\u001b[0m \u001b[0mymin_pred\u001b[0m\u001b[1;33m)\u001b[0m\u001b[1;33m\u001b[0m\u001b[0m\n\u001b[0;32m     21\u001b[0m \u001b[1;33m\u001b[0m\u001b[0m\n",
      "\u001b[1;32mB:\\tookits\\Anaconda3\\envs\\DL\\lib\\site-packages\\tensorflow\\python\\ops\\gen_math_ops.py\u001b[0m in \u001b[0;36mmaximum\u001b[1;34m(x, y, name)\u001b[0m\n\u001b[0;32m   2519\u001b[0m   \u001b[1;32mif\u001b[0m \u001b[0m_ctx\u001b[0m\u001b[1;33m.\u001b[0m\u001b[0min_graph_mode\u001b[0m\u001b[1;33m(\u001b[0m\u001b[1;33m)\u001b[0m\u001b[1;33m:\u001b[0m\u001b[1;33m\u001b[0m\u001b[0m\n\u001b[0;32m   2520\u001b[0m     _, _, _op = _op_def_lib._apply_op_helper(\n\u001b[1;32m-> 2521\u001b[1;33m         \"Maximum\", x=x, y=y, name=name)\n\u001b[0m\u001b[0;32m   2522\u001b[0m     \u001b[0m_result\u001b[0m \u001b[1;33m=\u001b[0m \u001b[0m_op\u001b[0m\u001b[1;33m.\u001b[0m\u001b[0moutputs\u001b[0m\u001b[1;33m[\u001b[0m\u001b[1;33m:\u001b[0m\u001b[1;33m]\u001b[0m\u001b[1;33m\u001b[0m\u001b[0m\n\u001b[0;32m   2523\u001b[0m     \u001b[0m_inputs_flat\u001b[0m \u001b[1;33m=\u001b[0m \u001b[0m_op\u001b[0m\u001b[1;33m.\u001b[0m\u001b[0minputs\u001b[0m\u001b[1;33m\u001b[0m\u001b[0m\n",
      "\u001b[1;32mB:\\tookits\\Anaconda3\\envs\\DL\\lib\\site-packages\\tensorflow\\python\\framework\\op_def_library.py\u001b[0m in \u001b[0;36m_apply_op_helper\u001b[1;34m(self, op_type_name, name, **keywords)\u001b[0m\n\u001b[0;32m    544\u001b[0m                   \u001b[1;34m\"%s type %s of argument '%s'.\"\u001b[0m \u001b[1;33m%\u001b[0m\u001b[1;33m\u001b[0m\u001b[0m\n\u001b[0;32m    545\u001b[0m                   (prefix, dtypes.as_dtype(attrs[input_arg.type_attr]).name,\n\u001b[1;32m--> 546\u001b[1;33m                    inferred_from[input_arg.type_attr]))\n\u001b[0m\u001b[0;32m    547\u001b[0m \u001b[1;33m\u001b[0m\u001b[0m\n\u001b[0;32m    548\u001b[0m           \u001b[0mtypes\u001b[0m \u001b[1;33m=\u001b[0m \u001b[1;33m[\u001b[0m\u001b[0mvalues\u001b[0m\u001b[1;33m.\u001b[0m\u001b[0mdtype\u001b[0m\u001b[1;33m]\u001b[0m\u001b[1;33m\u001b[0m\u001b[0m\n",
      "\u001b[1;31mTypeError\u001b[0m: Input 'y' of 'Maximum' Op has type float32 that does not match type int32 of argument 'x'."
     ]
    }
   ],
   "source": [
    "K.eval(IOU(y_train, preds))"
   ]
  },
  {
   "cell_type": "code",
   "execution_count": 49,
   "metadata": {},
   "outputs": [
    {
     "data": {
      "text/plain": [
       "array([[ 86, 132, 137, 224],\n",
       "       [ 41,  25,  86, 224],\n",
       "       [  0, 165,  12, 197],\n",
       "       [203, 165, 224, 188],\n",
       "       [  4,  65, 223, 160],\n",
       "       [145, 115, 184, 136],\n",
       "       [188, 122, 215, 138]])"
      ]
     },
     "execution_count": 49,
     "metadata": {},
     "output_type": "execute_result"
    }
   ],
   "source": [
    "y_train[y_train[:, :, :, 0] == 1][:, 1:]"
   ]
  },
  {
   "cell_type": "markdown",
   "metadata": {},
   "source": [
    "#### excellent indexing my way to get to know bboxes"
   ]
  },
  {
   "cell_type": "code",
   "execution_count": 163,
   "metadata": {},
   "outputs": [
    {
     "data": {
      "text/plain": [
       "array([[  1,   4,  65, 223, 160],\n",
       "       [  1, 145, 115, 184, 136],\n",
       "       [  1, 188, 122, 215, 138]])"
      ]
     },
     "execution_count": 163,
     "metadata": {},
     "output_type": "execute_result"
    }
   ],
   "source": [
    "y_train[3, (y_train[3, :, :,0] == 1)]"
   ]
  },
  {
   "cell_type": "code",
   "execution_count": 152,
   "metadata": {},
   "outputs": [
    {
     "data": {
      "text/plain": [
       "array([[0, 0, 0, 0, 0],\n",
       "       [0, 0, 0, 0, 0],\n",
       "       [0, 0, 0, 0, 0],\n",
       "       [0, 0, 0, 0, 0],\n",
       "       [0, 0, 0, 0, 0],\n",
       "       [0, 0, 0, 0, 0],\n",
       "       [0, 0, 0, 0, 0],\n",
       "       [0, 0, 0, 0, 0],\n",
       "       [0, 0, 0, 0, 0],\n",
       "       [0, 0, 0, 0, 0],\n",
       "       [0, 0, 0, 0, 0],\n",
       "       [0, 0, 0, 0, 0],\n",
       "       [0, 0, 0, 0, 0],\n",
       "       [0, 0, 0, 0, 0],\n",
       "       [0, 0, 0, 0, 0],\n",
       "       [0, 0, 0, 0, 0],\n",
       "       [0, 0, 0, 0, 0],\n",
       "       [0, 0, 0, 0, 0],\n",
       "       [0, 0, 0, 0, 0],\n",
       "       [0, 0, 0, 0, 0],\n",
       "       [0, 0, 0, 0, 0],\n",
       "       [0, 0, 0, 0, 0]])"
      ]
     },
     "execution_count": 152,
     "metadata": {},
     "output_type": "execute_result"
    }
   ],
   "source": [
    "y_train[3, (y_train[3, :, :, 0] == 0)]"
   ]
  },
  {
   "cell_type": "code",
   "execution_count": 157,
   "metadata": {},
   "outputs": [
    {
     "data": {
      "text/plain": [
       "(4, 5, 5)"
      ]
     },
     "execution_count": 157,
     "metadata": {},
     "output_type": "execute_result"
    }
   ],
   "source": [
    "true_objects_mask = (y_train[:, :, :, 0] == 1)\n",
    "true_objects_mask.shape"
   ]
  },
  {
   "cell_type": "code",
   "execution_count": 162,
   "metadata": {},
   "outputs": [
    {
     "data": {
      "text/plain": [
       "array([[  1,  86, 132, 137, 224],\n",
       "       [  1,  41,  25,  86, 224],\n",
       "       [  1,   0, 165,  12, 197],\n",
       "       [  1, 203, 165, 224, 188],\n",
       "       [  1,   4,  65, 223, 160],\n",
       "       [  1, 145, 115, 184, 136],\n",
       "       [  1, 188, 122, 215, 138]])"
      ]
     },
     "execution_count": 162,
     "metadata": {},
     "output_type": "execute_result"
    }
   ],
   "source": [
    "y_train[true_objects_mask]"
   ]
  },
  {
   "cell_type": "code",
   "execution_count": null,
   "metadata": {},
   "outputs": [],
   "source": [
    "true_objects_mask = (y_train[:, :, :, 0] == 1)\n",
    "true_object_inputs = y_train[true_objects_mask]\n",
    "no_objects_mask = (y_train[:, :, :, 0] == 0)\n",
    "no_objects_inputs = y_train[no_objects_mask]\n",
    "object_presence_input = true_object_inputs[]"
   ]
  },
  {
   "cell_type": "markdown",
   "metadata": {},
   "source": [
    "#### end of excellent bboxes ----------------------------------"
   ]
  },
  {
   "cell_type": "code",
   "execution_count": 139,
   "metadata": {},
   "outputs": [
    {
     "data": {
      "text/plain": [
       "array([[[  0,   0,   0,   0,   0],\n",
       "        [  0,   0,   0,   0,   0],\n",
       "        [  0,   0,   0,   0,   0],\n",
       "        [  0,   0,   0,   0,   0],\n",
       "        [  0,   0,   0,   0,   0]],\n",
       "\n",
       "       [[  0,   0,   0,   0,   0],\n",
       "        [  0,   0,   0,   0,   0],\n",
       "        [  0,   0,   0,   0,   0],\n",
       "        [  0,   0,   0,   0,   0],\n",
       "        [  0,   0,   0,   0,   0]],\n",
       "\n",
       "       [[  0,   0,   0,   0,   0],\n",
       "        [  0,   0,   0,   0,   0],\n",
       "        [  1,   4,  65, 223, 160],\n",
       "        [  1, 145, 115, 184, 136],\n",
       "        [  1, 188, 122, 215, 138]],\n",
       "\n",
       "       [[  0,   0,   0,   0,   0],\n",
       "        [  0,   0,   0,   0,   0],\n",
       "        [  0,   0,   0,   0,   0],\n",
       "        [  0,   0,   0,   0,   0],\n",
       "        [  0,   0,   0,   0,   0]],\n",
       "\n",
       "       [[  0,   0,   0,   0,   0],\n",
       "        [  0,   0,   0,   0,   0],\n",
       "        [  0,   0,   0,   0,   0],\n",
       "        [  0,   0,   0,   0,   0],\n",
       "        [  0,   0,   0,   0,   0]]])"
      ]
     },
     "execution_count": 139,
     "metadata": {},
     "output_type": "execute_result"
    }
   ],
   "source": [
    "y_train[3, :, :,]"
   ]
  },
  {
   "cell_type": "code",
   "execution_count": 117,
   "metadata": {},
   "outputs": [
    {
     "ename": "ValueError",
     "evalue": "operands could not be broadcast together with shapes (4,5,5) (4,5,5,4) ",
     "output_type": "error",
     "traceback": [
      "\u001b[1;31m---------------------------------------------------------------------------\u001b[0m",
      "\u001b[1;31mValueError\u001b[0m                                Traceback (most recent call last)",
      "\u001b[1;32m<ipython-input-117-089ec24f6087>\u001b[0m in \u001b[0;36m<module>\u001b[1;34m()\u001b[0m\n\u001b[1;32m----> 1\u001b[1;33m \u001b[0my_train\u001b[0m\u001b[1;33m[\u001b[0m\u001b[1;33m:\u001b[0m\u001b[1;33m,\u001b[0m \u001b[1;33m:\u001b[0m\u001b[1;33m,\u001b[0m \u001b[1;33m:\u001b[0m\u001b[1;33m,\u001b[0m \u001b[1;36m0\u001b[0m\u001b[1;33m]\u001b[0m \u001b[1;33m*\u001b[0m \u001b[0my_train\u001b[0m\u001b[1;33m[\u001b[0m\u001b[1;33m:\u001b[0m\u001b[1;33m,\u001b[0m \u001b[1;33m:\u001b[0m\u001b[1;33m,\u001b[0m \u001b[1;33m:\u001b[0m\u001b[1;33m,\u001b[0m \u001b[1;36m1\u001b[0m\u001b[1;33m:\u001b[0m\u001b[1;33m]\u001b[0m\u001b[1;33m\u001b[0m\u001b[0m\n\u001b[0m",
      "\u001b[1;31mValueError\u001b[0m: operands could not be broadcast together with shapes (4,5,5) (4,5,5,4) "
     ]
    }
   ],
   "source": [
    "y_train[:, :, :, 0], y_train[:, :, :, 1:]"
   ]
  },
  {
   "cell_type": "code",
   "execution_count": 100,
   "metadata": {},
   "outputs": [
    {
     "data": {
      "text/plain": [
       "(array([[[0, 0, 0, 0, 0],\n",
       "         [0, 0, 0, 0, 0],\n",
       "         [0, 0, 0, 0, 0],\n",
       "         [0, 0, 0, 0, 0],\n",
       "         [0, 0, 1, 0, 0]],\n",
       " \n",
       "        [[0, 0, 0, 0, 0],\n",
       "         [0, 0, 0, 0, 0],\n",
       "         [0, 1, 0, 0, 0],\n",
       "         [0, 0, 0, 0, 0],\n",
       "         [0, 0, 0, 0, 0]],\n",
       " \n",
       "        [[0, 0, 0, 0, 0],\n",
       "         [0, 0, 0, 0, 0],\n",
       "         [0, 0, 0, 0, 0],\n",
       "         [0, 0, 0, 0, 0],\n",
       "         [1, 0, 0, 0, 1]],\n",
       " \n",
       "        [[0, 0, 0, 0, 0],\n",
       "         [0, 0, 0, 0, 0],\n",
       "         [0, 0, 1, 1, 1],\n",
       "         [0, 0, 0, 0, 0],\n",
       "         [0, 0, 0, 0, 0]]]),\n",
       " array([[[ 0.42867598,  0.35086715,  0.36378124,  0.44020969,  0.27385515],\n",
       "         [ 0.36352858,  0.30997095,  0.27112961,  0.29356119,  0.2511214 ],\n",
       "         [ 0.39785787,  0.41767052,  0.42296398,  0.45114487,  0.49524561],\n",
       "         [ 0.49022552,  0.36892691,  0.5450815 ,  0.47621793,  0.47110999],\n",
       "         [ 0.41960067,  0.21940452,  0.42835286,  0.48870707,  0.33372861]],\n",
       " \n",
       "        [[ 0.32878578,  0.20636937,  0.40615219,  0.37054703,  0.36474374],\n",
       "         [ 0.47014204,  0.19797517,  0.43416104,  0.49711505,  0.28438953],\n",
       "         [ 0.7814334 ,  0.26908451,  0.51686758,  0.6720376 ,  0.44345745],\n",
       "         [ 0.49311188,  0.36409631,  0.38117144,  0.40610954,  0.40722778],\n",
       "         [ 0.24242537,  0.33920795,  0.42745852,  0.40543213,  0.35399225]],\n",
       " \n",
       "        [[ 0.33901852,  0.41772142,  0.32986563,  0.3676452 ,  0.29120505],\n",
       "         [ 0.32247373,  0.33635563,  0.36101294,  0.4655436 ,  0.21930826],\n",
       "         [ 0.35257673,  0.4668217 ,  0.46873081,  0.41109991,  0.26641273],\n",
       "         [ 0.56468016,  0.43204555,  0.42092058,  0.47544807,  0.36745152],\n",
       "         [ 0.56961471,  0.51431006,  0.45429313,  0.34396103,  0.26563606]],\n",
       " \n",
       "        [[ 0.39784405,  0.36512035,  0.34255558,  0.3349545 ,  0.31615308],\n",
       "         [ 0.41181353,  0.44543818,  0.41680276,  0.33964363,  0.28329873],\n",
       "         [ 0.77273673,  0.71359694,  0.49832374,  0.48036128,  0.44705072],\n",
       "         [ 0.52525681,  0.45635325,  0.31479532,  0.49690941,  0.49378431],\n",
       "         [ 0.3226628 ,  0.35874638,  0.33204767,  0.55023164,  0.40464175]]], dtype=float32))"
      ]
     },
     "execution_count": 100,
     "metadata": {},
     "output_type": "execute_result"
    }
   ],
   "source": [
    "y_train[:, :, :, 0] , preds[:, :, :, 0]"
   ]
  },
  {
   "cell_type": "code",
   "execution_count": 88,
   "metadata": {},
   "outputs": [
    {
     "data": {
      "text/plain": [
       "0.90204424"
      ]
     },
     "execution_count": 88,
     "metadata": {},
     "output_type": "execute_result"
    }
   ],
   "source": [
    "K.eval(tf.losses.sigmoid_cross_entropy(y_train[:, :, :, 0],tf.nn.sigmoid(preds[:,:,:,0])))"
   ]
  },
  {
   "cell_type": "code",
   "execution_count": 101,
   "metadata": {},
   "outputs": [
    {
     "data": {
      "text/plain": [
       "0.99500221"
      ]
     },
     "execution_count": 101,
     "metadata": {},
     "output_type": "execute_result"
    }
   ],
   "source": [
    "K.eval(tf.losses.sigmoid_cross_entropy(y_train[:, :, :, 0],tf.nn.sigmoid(preds[:,:,:,0])))"
   ]
  },
  {
   "cell_type": "code",
   "execution_count": 106,
   "metadata": {},
   "outputs": [
    {
     "data": {
      "text/plain": [
       "1637.3862"
      ]
     },
     "execution_count": 106,
     "metadata": {},
     "output_type": "execute_result"
    }
   ],
   "source": [
    "K.eval(tf.losses.mean_squared_error(y_train[:, :, :, 1:], preds[:, :, :, 1:]))"
   ]
  },
  {
   "cell_type": "code",
   "execution_count": null,
   "metadata": {},
   "outputs": [],
   "source": [
    "K.eval(tf.losses.sigmoid_cross_entropy(y_train[:, :, :, 0],tf.nn.sigmoid(preds[:,:,:,0])))"
   ]
  },
  {
   "cell_type": "code",
   "execution_count": 90,
   "metadata": {},
   "outputs": [
    {
     "data": {
      "text/plain": [
       "array([[[ 0.53859133,  0.51714879,  0.54043227,  0.5464685 ,  0.64806491],\n",
       "        [ 0.58427513,  0.56883425,  0.53052199,  0.56055307,  0.56320405],\n",
       "        [ 0.57744271,  0.55141258,  0.51703477,  0.48698473,  0.55709988],\n",
       "        [ 0.51439691,  0.50974256,  0.52287447,  0.56566709,  0.62095225],\n",
       "        [ 0.49376696,  0.56390315,  0.85689807,  0.52101743,  0.5718323 ]],\n",
       "\n",
       "       [[ 0.50787371,  0.48642069,  0.47709545,  0.60087919,  0.59825581],\n",
       "        [ 0.41038316,  0.42545384,  0.49284297,  0.53017271,  0.58465898],\n",
       "        [ 0.47485501,  0.92320013,  0.55151623,  0.58343863,  0.60649961],\n",
       "        [ 0.60665196,  0.58281565,  0.57652968,  0.59013504,  0.62048614],\n",
       "        [ 0.66512483,  0.66780126,  0.68053353,  0.6591273 ,  0.65778345]],\n",
       "\n",
       "       [[ 0.55384219,  0.59769475,  0.62833428,  0.66913176,  0.70161736],\n",
       "        [ 0.56257105,  0.58055651,  0.62696242,  0.62081492,  0.66759998],\n",
       "        [ 0.54214835,  0.57442898,  0.54021269,  0.55123687,  0.61313766],\n",
       "        [ 0.51506382,  0.54314321,  0.48493391,  0.49636725,  0.61244643],\n",
       "        [ 0.96471608,  0.50480968,  0.57829583,  0.57107699,  0.76522344]],\n",
       "\n",
       "       [[ 0.53761262,  0.56463337,  0.6157825 ,  0.66068113,  0.61683273],\n",
       "        [ 0.54169488,  0.52470988,  0.57716137,  0.56494927,  0.66830182],\n",
       "        [ 0.50071388,  0.51102865,  0.86176878,  0.9871136 ,  0.89156961],\n",
       "        [ 0.53332055,  0.57898134,  0.57093346,  0.45522502,  0.5081808 ],\n",
       "        [ 0.60330623,  0.64158708,  0.59565276,  0.53804803,  0.49316865]]], dtype=float32)"
      ]
     },
     "execution_count": 90,
     "metadata": {},
     "output_type": "execute_result"
    }
   ],
   "source": [
    "K.eval(obj_loss(tf.cast(y_train, tf.float32), preds))"
   ]
  },
  {
   "cell_type": "code",
   "execution_count": 86,
   "metadata": {},
   "outputs": [
    {
     "data": {
      "text/plain": [
       "array([[[ True,  True,  True,  True,  True],\n",
       "        [ True,  True,  True,  True,  True],\n",
       "        [ True,  True,  True,  True,  True],\n",
       "        [ True,  True,  True,  True,  True],\n",
       "        [ True,  True,  True,  True,  True]],\n",
       "\n",
       "       [[ True,  True,  True,  True,  True],\n",
       "        [ True,  True,  True,  True,  True],\n",
       "        [ True,  True,  True,  True,  True],\n",
       "        [ True,  True,  True,  True,  True],\n",
       "        [ True,  True,  True,  True,  True]],\n",
       "\n",
       "       [[ True,  True,  True,  True,  True],\n",
       "        [ True,  True,  True,  True,  True],\n",
       "        [ True,  True,  True,  True,  True],\n",
       "        [ True,  True,  True,  True,  True],\n",
       "        [ True,  True,  True,  True,  True]],\n",
       "\n",
       "       [[ True,  True,  True,  True,  True],\n",
       "        [ True,  True,  True,  True,  True],\n",
       "        [ True,  True,  True,  True,  True],\n",
       "        [ True,  True,  True,  True,  True],\n",
       "        [ True,  True,  True,  True,  True]]], dtype=bool)"
      ]
     },
     "execution_count": 86,
     "metadata": {},
     "output_type": "execute_result"
    }
   ],
   "source": [
    "K.eval(tf.round(tf.nn.sigmoid(preds[:,:,:,0]))) == np.round(sig_out, 0)"
   ]
  },
  {
   "cell_type": "code",
   "execution_count": 85,
   "metadata": {},
   "outputs": [
    {
     "data": {
      "text/plain": [
       "array([[[ 0.,  0.,  0.,  0.,  0.],\n",
       "        [ 0.,  0.,  0.,  0.,  0.],\n",
       "        [ 0.,  0.,  0.,  0.,  0.],\n",
       "        [ 0.,  0.,  0.,  0.,  0.],\n",
       "        [ 0.,  0.,  0.,  0.,  0.]],\n",
       "\n",
       "       [[ 0.,  0.,  0.,  0.,  0.],\n",
       "        [ 0.,  0.,  0.,  0.,  0.],\n",
       "        [ 0.,  0.,  0.,  0.,  0.],\n",
       "        [ 0.,  0.,  0.,  0.,  0.],\n",
       "        [ 0.,  0.,  0.,  0.,  0.]],\n",
       "\n",
       "       [[ 0.,  0.,  0.,  0.,  1.],\n",
       "        [ 0.,  0.,  0.,  0.,  0.],\n",
       "        [ 0.,  0.,  0.,  0.,  0.],\n",
       "        [ 0.,  0.,  0.,  0.,  0.],\n",
       "        [ 0.,  0.,  0.,  0.,  0.]],\n",
       "\n",
       "       [[ 0.,  0.,  0.,  0.,  0.],\n",
       "        [ 0.,  0.,  0.,  0.,  0.],\n",
       "        [ 0.,  0.,  0.,  0.,  0.],\n",
       "        [ 0.,  0.,  0.,  0.,  0.],\n",
       "        [ 0.,  0.,  0.,  0.,  0.]]], dtype=float32)"
      ]
     },
     "execution_count": 85,
     "metadata": {},
     "output_type": "execute_result"
    }
   ],
   "source": [
    "np.round(sig_out, 0)"
   ]
  },
  {
   "cell_type": "code",
   "execution_count": 49,
   "metadata": {},
   "outputs": [],
   "source": [
    "Det_model.compile(optimizer='rmsprop', loss=obj_loss)"
   ]
  },
  {
   "cell_type": "code",
   "execution_count": 25,
   "metadata": {},
   "outputs": [
    {
     "data": {
      "text/plain": [
       "(26688, 400)"
      ]
     },
     "execution_count": 25,
     "metadata": {},
     "output_type": "execute_result"
    }
   ],
   "source": [
    "len(final_parition['train']), len(final_parition['val'])"
   ]
  },
  {
   "cell_type": "code",
   "execution_count": 50,
   "metadata": {},
   "outputs": [
    {
     "name": "stdout",
     "output_type": "stream",
     "text": [
      "Epoch 1/3\n",
      "  37/6672 [..............................] - ETA: 42:00 - loss: -276254.4040"
     ]
    },
    {
     "ename": "KeyboardInterrupt",
     "evalue": "",
     "output_type": "error",
     "traceback": [
      "\u001b[1;31m---------------------------------------------------------------------------\u001b[0m",
      "\u001b[1;31mKeyboardInterrupt\u001b[0m                         Traceback (most recent call last)",
      "\u001b[1;32m<ipython-input-50-364ad9addaae>\u001b[0m in \u001b[0;36m<module>\u001b[1;34m()\u001b[0m\n\u001b[1;32m----> 1\u001b[1;33m \u001b[0mDet_model\u001b[0m\u001b[1;33m.\u001b[0m\u001b[0mfit_generator\u001b[0m\u001b[1;33m(\u001b[0m\u001b[0mtraining_generator\u001b[0m\u001b[1;33m,\u001b[0m \u001b[1;36m26688\u001b[0m \u001b[1;33m//\u001b[0m \u001b[1;36m4\u001b[0m\u001b[1;33m,\u001b[0m \u001b[0mepochs\u001b[0m\u001b[1;33m=\u001b[0m\u001b[1;36m3\u001b[0m \u001b[1;33m,\u001b[0m\u001b[0mvalidation_data\u001b[0m\u001b[1;33m=\u001b[0m\u001b[0mvalidation_generator\u001b[0m\u001b[1;33m,\u001b[0m \u001b[0mvalidation_steps\u001b[0m\u001b[1;33m=\u001b[0m\u001b[1;36m400\u001b[0m\u001b[1;33m//\u001b[0m\u001b[1;36m4\u001b[0m\u001b[1;33m)\u001b[0m\u001b[1;33m\u001b[0m\u001b[0m\n\u001b[0m",
      "\u001b[1;32mB:\\tookits\\Anaconda3\\envs\\DL\\lib\\site-packages\\keras\\legacy\\interfaces.py\u001b[0m in \u001b[0;36mwrapper\u001b[1;34m(*args, **kwargs)\u001b[0m\n\u001b[0;32m     85\u001b[0m                 warnings.warn('Update your `' + object_name +\n\u001b[0;32m     86\u001b[0m                               '` call to the Keras 2 API: ' + signature, stacklevel=2)\n\u001b[1;32m---> 87\u001b[1;33m             \u001b[1;32mreturn\u001b[0m \u001b[0mfunc\u001b[0m\u001b[1;33m(\u001b[0m\u001b[1;33m*\u001b[0m\u001b[0margs\u001b[0m\u001b[1;33m,\u001b[0m \u001b[1;33m**\u001b[0m\u001b[0mkwargs\u001b[0m\u001b[1;33m)\u001b[0m\u001b[1;33m\u001b[0m\u001b[0m\n\u001b[0m\u001b[0;32m     88\u001b[0m         \u001b[0mwrapper\u001b[0m\u001b[1;33m.\u001b[0m\u001b[0m_original_function\u001b[0m \u001b[1;33m=\u001b[0m \u001b[0mfunc\u001b[0m\u001b[1;33m\u001b[0m\u001b[0m\n\u001b[0;32m     89\u001b[0m         \u001b[1;32mreturn\u001b[0m \u001b[0mwrapper\u001b[0m\u001b[1;33m\u001b[0m\u001b[0m\n",
      "\u001b[1;32mB:\\tookits\\Anaconda3\\envs\\DL\\lib\\site-packages\\keras\\engine\\training.py\u001b[0m in \u001b[0;36mfit_generator\u001b[1;34m(self, generator, steps_per_epoch, epochs, verbose, callbacks, validation_data, validation_steps, class_weight, max_queue_size, workers, use_multiprocessing, shuffle, initial_epoch)\u001b[0m\n\u001b[0;32m   2075\u001b[0m                     outs = self.train_on_batch(x, y,\n\u001b[0;32m   2076\u001b[0m                                                \u001b[0msample_weight\u001b[0m\u001b[1;33m=\u001b[0m\u001b[0msample_weight\u001b[0m\u001b[1;33m,\u001b[0m\u001b[1;33m\u001b[0m\u001b[0m\n\u001b[1;32m-> 2077\u001b[1;33m                                                class_weight=class_weight)\n\u001b[0m\u001b[0;32m   2078\u001b[0m \u001b[1;33m\u001b[0m\u001b[0m\n\u001b[0;32m   2079\u001b[0m                     \u001b[1;32mif\u001b[0m \u001b[1;32mnot\u001b[0m \u001b[0misinstance\u001b[0m\u001b[1;33m(\u001b[0m\u001b[0mouts\u001b[0m\u001b[1;33m,\u001b[0m \u001b[0mlist\u001b[0m\u001b[1;33m)\u001b[0m\u001b[1;33m:\u001b[0m\u001b[1;33m\u001b[0m\u001b[0m\n",
      "\u001b[1;32mB:\\tookits\\Anaconda3\\envs\\DL\\lib\\site-packages\\keras\\engine\\training.py\u001b[0m in \u001b[0;36mtrain_on_batch\u001b[1;34m(self, x, y, sample_weight, class_weight)\u001b[0m\n\u001b[0;32m   1795\u001b[0m             \u001b[0mins\u001b[0m \u001b[1;33m=\u001b[0m \u001b[0mx\u001b[0m \u001b[1;33m+\u001b[0m \u001b[0my\u001b[0m \u001b[1;33m+\u001b[0m \u001b[0msample_weights\u001b[0m\u001b[1;33m\u001b[0m\u001b[0m\n\u001b[0;32m   1796\u001b[0m         \u001b[0mself\u001b[0m\u001b[1;33m.\u001b[0m\u001b[0m_make_train_function\u001b[0m\u001b[1;33m(\u001b[0m\u001b[1;33m)\u001b[0m\u001b[1;33m\u001b[0m\u001b[0m\n\u001b[1;32m-> 1797\u001b[1;33m         \u001b[0moutputs\u001b[0m \u001b[1;33m=\u001b[0m \u001b[0mself\u001b[0m\u001b[1;33m.\u001b[0m\u001b[0mtrain_function\u001b[0m\u001b[1;33m(\u001b[0m\u001b[0mins\u001b[0m\u001b[1;33m)\u001b[0m\u001b[1;33m\u001b[0m\u001b[0m\n\u001b[0m\u001b[0;32m   1798\u001b[0m         \u001b[1;32mif\u001b[0m \u001b[0mlen\u001b[0m\u001b[1;33m(\u001b[0m\u001b[0moutputs\u001b[0m\u001b[1;33m)\u001b[0m \u001b[1;33m==\u001b[0m \u001b[1;36m1\u001b[0m\u001b[1;33m:\u001b[0m\u001b[1;33m\u001b[0m\u001b[0m\n\u001b[0;32m   1799\u001b[0m             \u001b[1;32mreturn\u001b[0m \u001b[0moutputs\u001b[0m\u001b[1;33m[\u001b[0m\u001b[1;36m0\u001b[0m\u001b[1;33m]\u001b[0m\u001b[1;33m\u001b[0m\u001b[0m\n",
      "\u001b[1;32mB:\\tookits\\Anaconda3\\envs\\DL\\lib\\site-packages\\keras\\backend\\tensorflow_backend.py\u001b[0m in \u001b[0;36m__call__\u001b[1;34m(self, inputs)\u001b[0m\n\u001b[0;32m   2330\u001b[0m         updated = session.run(self.outputs + [self.updates_op],\n\u001b[0;32m   2331\u001b[0m                               \u001b[0mfeed_dict\u001b[0m\u001b[1;33m=\u001b[0m\u001b[0mfeed_dict\u001b[0m\u001b[1;33m,\u001b[0m\u001b[1;33m\u001b[0m\u001b[0m\n\u001b[1;32m-> 2332\u001b[1;33m                               **self.session_kwargs)\n\u001b[0m\u001b[0;32m   2333\u001b[0m         \u001b[1;32mreturn\u001b[0m \u001b[0mupdated\u001b[0m\u001b[1;33m[\u001b[0m\u001b[1;33m:\u001b[0m\u001b[0mlen\u001b[0m\u001b[1;33m(\u001b[0m\u001b[0mself\u001b[0m\u001b[1;33m.\u001b[0m\u001b[0moutputs\u001b[0m\u001b[1;33m)\u001b[0m\u001b[1;33m]\u001b[0m\u001b[1;33m\u001b[0m\u001b[0m\n\u001b[0;32m   2334\u001b[0m \u001b[1;33m\u001b[0m\u001b[0m\n",
      "\u001b[1;32mB:\\tookits\\Anaconda3\\envs\\DL\\lib\\site-packages\\tensorflow\\python\\client\\session.py\u001b[0m in \u001b[0;36mrun\u001b[1;34m(self, fetches, feed_dict, options, run_metadata)\u001b[0m\n\u001b[0;32m    887\u001b[0m     \u001b[1;32mtry\u001b[0m\u001b[1;33m:\u001b[0m\u001b[1;33m\u001b[0m\u001b[0m\n\u001b[0;32m    888\u001b[0m       result = self._run(None, fetches, feed_dict, options_ptr,\n\u001b[1;32m--> 889\u001b[1;33m                          run_metadata_ptr)\n\u001b[0m\u001b[0;32m    890\u001b[0m       \u001b[1;32mif\u001b[0m \u001b[0mrun_metadata\u001b[0m\u001b[1;33m:\u001b[0m\u001b[1;33m\u001b[0m\u001b[0m\n\u001b[0;32m    891\u001b[0m         \u001b[0mproto_data\u001b[0m \u001b[1;33m=\u001b[0m \u001b[0mtf_session\u001b[0m\u001b[1;33m.\u001b[0m\u001b[0mTF_GetBuffer\u001b[0m\u001b[1;33m(\u001b[0m\u001b[0mrun_metadata_ptr\u001b[0m\u001b[1;33m)\u001b[0m\u001b[1;33m\u001b[0m\u001b[0m\n",
      "\u001b[1;32mB:\\tookits\\Anaconda3\\envs\\DL\\lib\\site-packages\\tensorflow\\python\\client\\session.py\u001b[0m in \u001b[0;36m_run\u001b[1;34m(self, handle, fetches, feed_dict, options, run_metadata)\u001b[0m\n\u001b[0;32m   1118\u001b[0m     \u001b[1;32mif\u001b[0m \u001b[0mfinal_fetches\u001b[0m \u001b[1;32mor\u001b[0m \u001b[0mfinal_targets\u001b[0m \u001b[1;32mor\u001b[0m \u001b[1;33m(\u001b[0m\u001b[0mhandle\u001b[0m \u001b[1;32mand\u001b[0m \u001b[0mfeed_dict_tensor\u001b[0m\u001b[1;33m)\u001b[0m\u001b[1;33m:\u001b[0m\u001b[1;33m\u001b[0m\u001b[0m\n\u001b[0;32m   1119\u001b[0m       results = self._do_run(handle, final_targets, final_fetches,\n\u001b[1;32m-> 1120\u001b[1;33m                              feed_dict_tensor, options, run_metadata)\n\u001b[0m\u001b[0;32m   1121\u001b[0m     \u001b[1;32melse\u001b[0m\u001b[1;33m:\u001b[0m\u001b[1;33m\u001b[0m\u001b[0m\n\u001b[0;32m   1122\u001b[0m       \u001b[0mresults\u001b[0m \u001b[1;33m=\u001b[0m \u001b[1;33m[\u001b[0m\u001b[1;33m]\u001b[0m\u001b[1;33m\u001b[0m\u001b[0m\n",
      "\u001b[1;32mB:\\tookits\\Anaconda3\\envs\\DL\\lib\\site-packages\\tensorflow\\python\\client\\session.py\u001b[0m in \u001b[0;36m_do_run\u001b[1;34m(self, handle, target_list, fetch_list, feed_dict, options, run_metadata)\u001b[0m\n\u001b[0;32m   1315\u001b[0m     \u001b[1;32mif\u001b[0m \u001b[0mhandle\u001b[0m \u001b[1;32mis\u001b[0m \u001b[1;32mNone\u001b[0m\u001b[1;33m:\u001b[0m\u001b[1;33m\u001b[0m\u001b[0m\n\u001b[0;32m   1316\u001b[0m       return self._do_call(_run_fn, self._session, feeds, fetches, targets,\n\u001b[1;32m-> 1317\u001b[1;33m                            options, run_metadata)\n\u001b[0m\u001b[0;32m   1318\u001b[0m     \u001b[1;32melse\u001b[0m\u001b[1;33m:\u001b[0m\u001b[1;33m\u001b[0m\u001b[0m\n\u001b[0;32m   1319\u001b[0m       \u001b[1;32mreturn\u001b[0m \u001b[0mself\u001b[0m\u001b[1;33m.\u001b[0m\u001b[0m_do_call\u001b[0m\u001b[1;33m(\u001b[0m\u001b[0m_prun_fn\u001b[0m\u001b[1;33m,\u001b[0m \u001b[0mself\u001b[0m\u001b[1;33m.\u001b[0m\u001b[0m_session\u001b[0m\u001b[1;33m,\u001b[0m \u001b[0mhandle\u001b[0m\u001b[1;33m,\u001b[0m \u001b[0mfeeds\u001b[0m\u001b[1;33m,\u001b[0m \u001b[0mfetches\u001b[0m\u001b[1;33m)\u001b[0m\u001b[1;33m\u001b[0m\u001b[0m\n",
      "\u001b[1;32mB:\\tookits\\Anaconda3\\envs\\DL\\lib\\site-packages\\tensorflow\\python\\client\\session.py\u001b[0m in \u001b[0;36m_do_call\u001b[1;34m(self, fn, *args)\u001b[0m\n\u001b[0;32m   1321\u001b[0m   \u001b[1;32mdef\u001b[0m \u001b[0m_do_call\u001b[0m\u001b[1;33m(\u001b[0m\u001b[0mself\u001b[0m\u001b[1;33m,\u001b[0m \u001b[0mfn\u001b[0m\u001b[1;33m,\u001b[0m \u001b[1;33m*\u001b[0m\u001b[0margs\u001b[0m\u001b[1;33m)\u001b[0m\u001b[1;33m:\u001b[0m\u001b[1;33m\u001b[0m\u001b[0m\n\u001b[0;32m   1322\u001b[0m     \u001b[1;32mtry\u001b[0m\u001b[1;33m:\u001b[0m\u001b[1;33m\u001b[0m\u001b[0m\n\u001b[1;32m-> 1323\u001b[1;33m       \u001b[1;32mreturn\u001b[0m \u001b[0mfn\u001b[0m\u001b[1;33m(\u001b[0m\u001b[1;33m*\u001b[0m\u001b[0margs\u001b[0m\u001b[1;33m)\u001b[0m\u001b[1;33m\u001b[0m\u001b[0m\n\u001b[0m\u001b[0;32m   1324\u001b[0m     \u001b[1;32mexcept\u001b[0m \u001b[0merrors\u001b[0m\u001b[1;33m.\u001b[0m\u001b[0mOpError\u001b[0m \u001b[1;32mas\u001b[0m \u001b[0me\u001b[0m\u001b[1;33m:\u001b[0m\u001b[1;33m\u001b[0m\u001b[0m\n\u001b[0;32m   1325\u001b[0m       \u001b[0mmessage\u001b[0m \u001b[1;33m=\u001b[0m \u001b[0mcompat\u001b[0m\u001b[1;33m.\u001b[0m\u001b[0mas_text\u001b[0m\u001b[1;33m(\u001b[0m\u001b[0me\u001b[0m\u001b[1;33m.\u001b[0m\u001b[0mmessage\u001b[0m\u001b[1;33m)\u001b[0m\u001b[1;33m\u001b[0m\u001b[0m\n",
      "\u001b[1;32mB:\\tookits\\Anaconda3\\envs\\DL\\lib\\site-packages\\tensorflow\\python\\client\\session.py\u001b[0m in \u001b[0;36m_run_fn\u001b[1;34m(session, feed_dict, fetch_list, target_list, options, run_metadata)\u001b[0m\n\u001b[0;32m   1300\u001b[0m           return tf_session.TF_Run(session, options,\n\u001b[0;32m   1301\u001b[0m                                    \u001b[0mfeed_dict\u001b[0m\u001b[1;33m,\u001b[0m \u001b[0mfetch_list\u001b[0m\u001b[1;33m,\u001b[0m \u001b[0mtarget_list\u001b[0m\u001b[1;33m,\u001b[0m\u001b[1;33m\u001b[0m\u001b[0m\n\u001b[1;32m-> 1302\u001b[1;33m                                    status, run_metadata)\n\u001b[0m\u001b[0;32m   1303\u001b[0m \u001b[1;33m\u001b[0m\u001b[0m\n\u001b[0;32m   1304\u001b[0m     \u001b[1;32mdef\u001b[0m \u001b[0m_prun_fn\u001b[0m\u001b[1;33m(\u001b[0m\u001b[0msession\u001b[0m\u001b[1;33m,\u001b[0m \u001b[0mhandle\u001b[0m\u001b[1;33m,\u001b[0m \u001b[0mfeed_dict\u001b[0m\u001b[1;33m,\u001b[0m \u001b[0mfetch_list\u001b[0m\u001b[1;33m)\u001b[0m\u001b[1;33m:\u001b[0m\u001b[1;33m\u001b[0m\u001b[0m\n",
      "\u001b[1;31mKeyboardInterrupt\u001b[0m: "
     ]
    }
   ],
   "source": [
    "Det_model.fit_generator(training_generator, 26688 // 4, epochs=3 ,validation_data=validation_generator, validation_steps=400//4)"
   ]
  },
  {
   "cell_type": "code",
   "execution_count": 21,
   "metadata": {},
   "outputs": [
    {
     "data": {
      "text/plain": [
       "(16, 5, 5)"
      ]
     },
     "execution_count": 21,
     "metadata": {},
     "output_type": "execute_result"
    }
   ],
   "source": [
    "y_train[:, ].shape"
   ]
  },
  {
   "cell_type": "code",
   "execution_count": 33,
   "metadata": {},
   "outputs": [],
   "source": [
    "test = y_train[1]"
   ]
  },
  {
   "cell_type": "code",
   "execution_count": 30,
   "metadata": {},
   "outputs": [
    {
     "data": {
      "text/plain": [
       "(5, 5)"
      ]
     },
     "execution_count": 30,
     "metadata": {},
     "output_type": "execute_result"
    }
   ],
   "source": [
    "test[:, :, 1].shape"
   ]
  },
  {
   "cell_type": "code",
   "execution_count": 49,
   "metadata": {},
   "outputs": [
    {
     "data": {
      "text/plain": [
       "array([[[  0,   0,   0,   0,   0],\n",
       "        [  0,   0,   0,   0,   0],\n",
       "        [  0,   0,   0,   0,   0],\n",
       "        [  0,   0,   0,   0,   0],\n",
       "        [  0,   0,   0,   0,   0]],\n",
       "\n",
       "       [[  0,   0,   0,   0,   0],\n",
       "        [  1,  38,  32,  83,  97],\n",
       "        [  0,   0,   0,   0,   0],\n",
       "        [  0,   0,   0,   0,   0],\n",
       "        [  0,   0,   0,   0,   0]],\n",
       "\n",
       "       [[  0,   0,   0,   0,   0],\n",
       "        [  0,   0,   0,   0,   0],\n",
       "        [  0,   0,   0,   0,   0],\n",
       "        [  0,   0,   0,   0,   0],\n",
       "        [  0,   0,   0,   0,   0]],\n",
       "\n",
       "       [[  1,   1,  50,  81, 223],\n",
       "        [  0,   0,   0,   0,   0],\n",
       "        [  0,   0,   0,   0,   0],\n",
       "        [  1, 120,  67, 224, 210],\n",
       "        [  0,   0,   0,   0,   0]],\n",
       "\n",
       "       [[  0,   0,   0,   0,   0],\n",
       "        [  0,   0,   0,   0,   0],\n",
       "        [  0,   0,   0,   0,   0],\n",
       "        [  0,   0,   0,   0,   0],\n",
       "        [  0,   0,   0,   0,   0]]])"
      ]
     },
     "execution_count": 49,
     "metadata": {},
     "output_type": "execute_result"
    }
   ],
   "source": [
    "test"
   ]
  },
  {
   "cell_type": "code",
   "execution_count": 55,
   "metadata": {},
   "outputs": [
    {
     "data": {
      "text/plain": [
       "array([[0, 0, 0, 0, 0],\n",
       "       [0, 1, 0, 0, 0],\n",
       "       [0, 0, 0, 0, 0],\n",
       "       [1, 0, 0, 1, 0],\n",
       "       [0, 0, 0, 0, 0]])"
      ]
     },
     "execution_count": 55,
     "metadata": {},
     "output_type": "execute_result"
    }
   ],
   "source": [
    "test[:, :, 0]"
   ]
  },
  {
   "cell_type": "code",
   "execution_count": 42,
   "metadata": {},
   "outputs": [
    {
     "data": {
      "text/plain": [
       "array([[[  0,   0,   0,   0,   0],\n",
       "        [  0,   0,   0,   0,   0],\n",
       "        [  0,   0,   0,   0,   0],\n",
       "        [  0,   0,   0,   0,   0],\n",
       "        [  0,   0,   0,   0,   0]],\n",
       "\n",
       "       [[  0,   0,   0,   0,   0],\n",
       "        [  1,  38,  32,  83,  97],\n",
       "        [  0,   0,   0,   0,   0],\n",
       "        [  0,   0,   0,   0,   0],\n",
       "        [  0,   0,   0,   0,   0]],\n",
       "\n",
       "       [[  0,   0,   0,   0,   0],\n",
       "        [  0,   0,   0,   0,   0],\n",
       "        [  0,   0,   0,   0,   0],\n",
       "        [  0,   0,   0,   0,   0],\n",
       "        [  0,   0,   0,   0,   0]],\n",
       "\n",
       "       [[  1,   1,  50,  81, 223],\n",
       "        [  0,   0,   0,   0,   0],\n",
       "        [  0,   0,   0,   0,   0],\n",
       "        [  1, 120,  67, 224, 210],\n",
       "        [  0,   0,   0,   0,   0]],\n",
       "\n",
       "       [[  0,   0,   0,   0,   0],\n",
       "        [  0,   0,   0,   0,   0],\n",
       "        [  0,   0,   0,   0,   0],\n",
       "        [  0,   0,   0,   0,   0],\n",
       "        [  0,   0,   0,   0,   0]]])"
      ]
     },
     "execution_count": 42,
     "metadata": {},
     "output_type": "execute_result"
    }
   ],
   "source": [
    "test[]"
   ]
  },
  {
   "cell_type": "code",
   "execution_count": 58,
   "metadata": {},
   "outputs": [],
   "source": [
    "y_pred = np.zeros((16, 5, 5))"
   ]
  },
  {
   "cell_type": "code",
   "execution_count": 59,
   "metadata": {},
   "outputs": [
    {
     "data": {
      "text/plain": [
       "array([[[ 0.,  0.,  0.,  0.,  0.],\n",
       "        [ 0.,  0.,  0.,  0.,  0.],\n",
       "        [ 0.,  0.,  0.,  0.,  0.],\n",
       "        [ 0.,  0.,  0.,  0.,  0.],\n",
       "        [ 0.,  0.,  0.,  0.,  0.]],\n",
       "\n",
       "       [[ 0.,  0.,  0.,  0.,  0.],\n",
       "        [ 0.,  0.,  0.,  0.,  0.],\n",
       "        [ 0.,  0.,  0.,  0.,  0.],\n",
       "        [ 0.,  0.,  0.,  0.,  0.],\n",
       "        [ 0.,  0.,  0.,  0.,  0.]],\n",
       "\n",
       "       [[ 0.,  0.,  0.,  0.,  0.],\n",
       "        [ 0.,  0.,  0.,  0.,  0.],\n",
       "        [ 0.,  0.,  0.,  0.,  0.],\n",
       "        [ 0.,  0.,  0.,  0.,  0.],\n",
       "        [ 0.,  0.,  0.,  0.,  0.]],\n",
       "\n",
       "       [[ 0.,  0.,  0.,  0.,  0.],\n",
       "        [ 0.,  0.,  0.,  0.,  0.],\n",
       "        [ 0.,  0.,  0.,  0.,  0.],\n",
       "        [ 0.,  0.,  0.,  0.,  0.],\n",
       "        [ 0.,  0.,  0.,  0.,  0.]],\n",
       "\n",
       "       [[ 0.,  0.,  0.,  0.,  0.],\n",
       "        [ 0.,  0.,  0.,  0.,  0.],\n",
       "        [ 0.,  0.,  0.,  0.,  0.],\n",
       "        [ 0.,  0.,  0.,  0.,  0.],\n",
       "        [ 0.,  0.,  0.,  0.,  0.]],\n",
       "\n",
       "       [[ 0.,  0.,  0.,  0.,  0.],\n",
       "        [ 0.,  0.,  0.,  0.,  0.],\n",
       "        [ 0.,  0.,  0.,  0.,  0.],\n",
       "        [ 0.,  0.,  0.,  0.,  0.],\n",
       "        [ 0.,  0.,  0.,  0.,  0.]],\n",
       "\n",
       "       [[ 0.,  0.,  0.,  0.,  0.],\n",
       "        [ 0.,  0.,  0.,  0.,  0.],\n",
       "        [ 0.,  0.,  0.,  0.,  0.],\n",
       "        [ 0.,  0.,  0.,  0.,  0.],\n",
       "        [ 0.,  0.,  0.,  0.,  0.]],\n",
       "\n",
       "       [[ 0.,  0.,  0.,  0.,  0.],\n",
       "        [ 0.,  0.,  0.,  0.,  0.],\n",
       "        [ 0.,  0.,  0.,  0.,  0.],\n",
       "        [ 0.,  0.,  0.,  0.,  0.],\n",
       "        [ 0.,  0.,  0.,  0.,  0.]],\n",
       "\n",
       "       [[ 0.,  0.,  0.,  0.,  0.],\n",
       "        [ 0.,  0.,  0.,  0.,  0.],\n",
       "        [ 0.,  0.,  0.,  0.,  0.],\n",
       "        [ 0.,  0.,  0.,  0.,  0.],\n",
       "        [ 0.,  0.,  0.,  0.,  0.]],\n",
       "\n",
       "       [[ 0.,  0.,  0.,  0.,  0.],\n",
       "        [ 0.,  0.,  0.,  0.,  0.],\n",
       "        [ 0.,  0.,  0.,  0.,  0.],\n",
       "        [ 0.,  0.,  0.,  0.,  0.],\n",
       "        [ 0.,  0.,  0.,  0.,  0.]],\n",
       "\n",
       "       [[ 0.,  0.,  0.,  0.,  0.],\n",
       "        [ 0.,  0.,  0.,  0.,  0.],\n",
       "        [ 0.,  0.,  0.,  0.,  0.],\n",
       "        [ 0.,  0.,  0.,  0.,  0.],\n",
       "        [ 0.,  0.,  0.,  0.,  0.]],\n",
       "\n",
       "       [[ 0.,  0.,  0.,  0.,  0.],\n",
       "        [ 0.,  0.,  0.,  0.,  0.],\n",
       "        [ 0.,  0.,  0.,  0.,  0.],\n",
       "        [ 0.,  0.,  0.,  0.,  0.],\n",
       "        [ 0.,  0.,  0.,  0.,  0.]],\n",
       "\n",
       "       [[ 0.,  0.,  0.,  0.,  0.],\n",
       "        [ 0.,  0.,  0.,  0.,  0.],\n",
       "        [ 0.,  0.,  0.,  0.,  0.],\n",
       "        [ 0.,  0.,  0.,  0.,  0.],\n",
       "        [ 0.,  0.,  0.,  0.,  0.]],\n",
       "\n",
       "       [[ 0.,  0.,  0.,  0.,  0.],\n",
       "        [ 0.,  0.,  0.,  0.,  0.],\n",
       "        [ 0.,  0.,  0.,  0.,  0.],\n",
       "        [ 0.,  0.,  0.,  0.,  0.],\n",
       "        [ 0.,  0.,  0.,  0.,  0.]],\n",
       "\n",
       "       [[ 0.,  0.,  0.,  0.,  0.],\n",
       "        [ 0.,  0.,  0.,  0.,  0.],\n",
       "        [ 0.,  0.,  0.,  0.,  0.],\n",
       "        [ 0.,  0.,  0.,  0.,  0.],\n",
       "        [ 0.,  0.,  0.,  0.,  0.]],\n",
       "\n",
       "       [[ 0.,  0.,  0.,  0.,  0.],\n",
       "        [ 0.,  0.,  0.,  0.,  0.],\n",
       "        [ 0.,  0.,  0.,  0.,  0.],\n",
       "        [ 0.,  0.,  0.,  0.,  0.],\n",
       "        [ 0.,  0.,  0.,  0.,  0.]]])"
      ]
     },
     "execution_count": 59,
     "metadata": {},
     "output_type": "execute_result"
    }
   ],
   "source": [
    "y_pred"
   ]
  },
  {
   "cell_type": "code",
   "execution_count": 22,
   "metadata": {},
   "outputs": [
    {
     "data": {
      "text/plain": [
       "array([[[0, 0, 0, 0, 0],\n",
       "        [0, 0, 0, 0, 0],\n",
       "        [0, 0, 1, 0, 0],\n",
       "        [0, 0, 0, 0, 0],\n",
       "        [0, 0, 0, 0, 0]],\n",
       "\n",
       "       [[0, 0, 0, 0, 0],\n",
       "        [0, 1, 0, 0, 0],\n",
       "        [0, 0, 0, 0, 0],\n",
       "        [1, 0, 0, 1, 0],\n",
       "        [0, 0, 0, 0, 0]],\n",
       "\n",
       "       [[0, 0, 0, 0, 0],\n",
       "        [0, 0, 0, 0, 0],\n",
       "        [0, 0, 0, 1, 0],\n",
       "        [0, 0, 1, 0, 0],\n",
       "        [0, 0, 0, 0, 0]],\n",
       "\n",
       "       [[0, 0, 0, 0, 0],\n",
       "        [0, 0, 0, 0, 0],\n",
       "        [0, 1, 0, 0, 0],\n",
       "        [0, 0, 0, 0, 0],\n",
       "        [0, 0, 0, 0, 0]],\n",
       "\n",
       "       [[0, 0, 0, 0, 0],\n",
       "        [0, 0, 0, 0, 0],\n",
       "        [0, 0, 0, 1, 0],\n",
       "        [0, 0, 0, 0, 0],\n",
       "        [0, 0, 0, 0, 0]],\n",
       "\n",
       "       [[0, 0, 0, 0, 0],\n",
       "        [0, 0, 0, 0, 0],\n",
       "        [0, 1, 0, 1, 0],\n",
       "        [0, 0, 0, 0, 0],\n",
       "        [0, 0, 0, 0, 0]],\n",
       "\n",
       "       [[0, 0, 0, 0, 0],\n",
       "        [0, 1, 1, 0, 0],\n",
       "        [1, 0, 0, 1, 0],\n",
       "        [0, 1, 0, 0, 0],\n",
       "        [0, 0, 1, 1, 0]],\n",
       "\n",
       "       [[0, 0, 0, 0, 0],\n",
       "        [0, 0, 0, 0, 0],\n",
       "        [0, 0, 0, 0, 0],\n",
       "        [0, 0, 1, 0, 0],\n",
       "        [0, 0, 0, 0, 0]],\n",
       "\n",
       "       [[0, 0, 0, 0, 0],\n",
       "        [0, 0, 0, 0, 0],\n",
       "        [0, 0, 0, 0, 0],\n",
       "        [0, 0, 0, 1, 0],\n",
       "        [0, 0, 0, 0, 0]],\n",
       "\n",
       "       [[0, 0, 0, 0, 0],\n",
       "        [0, 0, 0, 0, 0],\n",
       "        [0, 0, 1, 0, 0],\n",
       "        [0, 0, 0, 0, 0],\n",
       "        [0, 0, 0, 0, 0]],\n",
       "\n",
       "       [[0, 0, 0, 0, 0],\n",
       "        [0, 0, 0, 0, 0],\n",
       "        [0, 0, 0, 0, 0],\n",
       "        [1, 1, 1, 0, 0],\n",
       "        [0, 0, 0, 0, 0]],\n",
       "\n",
       "       [[0, 0, 0, 0, 0],\n",
       "        [0, 0, 0, 0, 0],\n",
       "        [0, 0, 1, 0, 0],\n",
       "        [0, 0, 0, 0, 0],\n",
       "        [0, 0, 0, 0, 0]],\n",
       "\n",
       "       [[0, 0, 0, 0, 0],\n",
       "        [0, 0, 0, 0, 0],\n",
       "        [0, 0, 1, 0, 0],\n",
       "        [0, 0, 0, 0, 0],\n",
       "        [0, 0, 0, 0, 0]],\n",
       "\n",
       "       [[0, 0, 0, 0, 0],\n",
       "        [0, 0, 1, 1, 1],\n",
       "        [0, 0, 1, 0, 0],\n",
       "        [0, 0, 0, 0, 0],\n",
       "        [0, 0, 0, 0, 0]],\n",
       "\n",
       "       [[0, 0, 0, 0, 0],\n",
       "        [0, 0, 0, 0, 0],\n",
       "        [0, 0, 1, 0, 0],\n",
       "        [0, 0, 0, 0, 0],\n",
       "        [0, 0, 0, 0, 0]],\n",
       "\n",
       "       [[0, 0, 0, 0, 0],\n",
       "        [0, 0, 0, 0, 0],\n",
       "        [0, 0, 1, 0, 0],\n",
       "        [0, 0, 0, 0, 0],\n",
       "        [0, 0, 0, 0, 0]]])"
      ]
     },
     "execution_count": 22,
     "metadata": {},
     "output_type": "execute_result"
    }
   ],
   "source": [
    "y_train[:, :, :, 0]"
   ]
  },
  {
   "cell_type": "code",
   "execution_count": 25,
   "metadata": {},
   "outputs": [
    {
     "data": {
      "text/plain": [
       "(16, 5, 5, 4)"
      ]
     },
     "execution_count": 25,
     "metadata": {},
     "output_type": "execute_result"
    }
   ],
   "source": [
    "y_train[:, :, :, 1:].shape"
   ]
  },
  {
   "cell_type": "code",
   "execution_count": 57,
   "metadata": {},
   "outputs": [
    {
     "data": {
      "text/plain": [
       "array([0, 0, 2, 0, 0], dtype=int64)"
      ]
     },
     "execution_count": 57,
     "metadata": {},
     "output_type": "execute_result"
    }
   ],
   "source": [
    "np.argmax(y_train[0, :, :, 0], axis=())"
   ]
  },
  {
   "cell_type": "code",
   "execution_count": 60,
   "metadata": {},
   "outputs": [
    {
     "data": {
      "text/plain": [
       "array([[0, 0, 0, 0, 0],\n",
       "       [0, 1, 0, 0, 0],\n",
       "       [0, 0, 0, 0, 0],\n",
       "       [1, 0, 0, 1, 0],\n",
       "       [0, 0, 0, 0, 0]])"
      ]
     },
     "execution_count": 60,
     "metadata": {},
     "output_type": "execute_result"
    }
   ],
   "source": [
    "y_train[1, :, :, 0]"
   ]
  },
  {
   "cell_type": "markdown",
   "metadata": {},
   "source": [
    "#### code snippet for the IOU"
   ]
  },
  {
   "cell_type": "code",
   "execution_count": 68,
   "metadata": {},
   "outputs": [],
   "source": [
    "xmin_gt, xmin_pred =  y_train[:, :, :, 0], y_pred[:, :, :, 0]\n",
    "ymin_gt, ymin_pred =  y_train[:, :, :, 1], y_pred[:, :, :, 1]\n",
    "xmax_gt, xmax_pred =  y_train[:, :, :, 2], y_pred[:, :, :, 2]\n",
    "ymax_gt, ymax_pred =  y_train[:, :, :, 3], y_pred[:, :, :, 3]\n",
    "\n",
    "\n",
    "max_cords_x = tf.maximum(xmin_gt, xmin_pred)\n",
    "max_cords_y = tf.maximum(ymin_gt, ymin_pred)\n",
    "\n",
    "min_cords_x = tf.minimum(xmax_gt, xmax_pred)\n",
    "min_cords_y = tf.minimum(ymax_gt, ymax_pred)\n",
    "\n",
    "intersect_area = tf.multiply(tf.add(tf.subtract(min_cords_x, max_cords_x), 1), tf.add(tf.subtract(min_cords_y, max_cords_y),1))\n",
    "\n",
    "gt_areas = tf.multiply(tf.add(tf.subtract(xmax_gt, xmin_gt), 1), tf.add(tf.subtract(ymax_gt, ymin_gt), 1))\n",
    "pred_areas = tf.multiply(tf.add(tf.subtract(xmax_pred, xmin_pred), 1), tf.add(tf.subtract(ymax_pred, ymin_pred), 1))\n",
    "\n",
    "union_area = tf.subtract(tf.add(gt_areas, pred_areas), intersect_area)\n",
    "\n",
    "iou = tf.divide(intersect_area / union_area)"
   ]
  },
  {
   "cell_type": "code",
   "execution_count": 70,
   "metadata": {},
   "outputs": [],
   "source": [
    "def sigmoid(x):\n",
    "    \n",
    "    return 1 / (1 + np.exp(-x))"
   ]
  },
  {
   "cell_type": "code",
   "execution_count": 71,
   "metadata": {},
   "outputs": [],
   "source": [
    "def sigmoid_cross_entropy(true, pred):\n",
    "    return - np.sum(np.multiply(true, np.log(pred)))\n",
    "    "
   ]
  }
 ],
 "metadata": {
  "kernelspec": {
   "display_name": "Python 3",
   "language": "python",
   "name": "python3"
  },
  "language_info": {
   "codemirror_mode": {
    "name": "ipython",
    "version": 3
   },
   "file_extension": ".py",
   "mimetype": "text/x-python",
   "name": "python",
   "nbconvert_exporter": "python",
   "pygments_lexer": "ipython3",
   "version": "3.5.4"
  }
 },
 "nbformat": 4,
 "nbformat_minor": 2
}
